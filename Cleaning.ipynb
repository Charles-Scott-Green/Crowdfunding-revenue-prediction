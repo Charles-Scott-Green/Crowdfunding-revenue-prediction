{
  "nbformat": 4,
  "nbformat_minor": 0,
  "metadata": {
    "celltoolbar": "Edit Metadata",
    "kernelspec": {
      "name": "python3",
      "display_name": "Python 3"
    },
    "language_info": {
      "codemirror_mode": {
        "name": "ipython",
        "version": 3
      },
      "file_extension": ".py",
      "mimetype": "text/x-python",
      "name": "python",
      "nbconvert_exporter": "python",
      "pygments_lexer": "ipython3",
      "version": "3.6.9"
    },
    "colab": {
      "name": "Cleaning.ipynb",
      "provenance": [],
      "toc_visible": true,
      "include_colab_link": true
    },
    "accelerator": "GPU"
  },
  "cells": [
    {
      "cell_type": "markdown",
      "metadata": {
        "id": "view-in-github",
        "colab_type": "text"
      },
      "source": [
        "<a href=\"https://colab.research.google.com/github/Charles-Scott-Green/Crowdfunding-revenue-prediction/blob/master/Cleaning.ipynb\" target=\"_parent\"><img src=\"https://colab.research.google.com/assets/colab-badge.svg\" alt=\"Open In Colab\"/></a>"
      ]
    },
    {
      "cell_type": "code",
      "metadata": {
        "id": "rhGuhfRaoUIj",
        "colab_type": "code",
        "colab": {}
      },
      "source": [
        "# Import libraries\n",
        "import glob, os \n",
        "import pandas as pd\n",
        "import json\n",
        "import ast\n",
        "from pandas.io.json import json_normalize\n",
        "import numpy as np\n",
        "import matplotlib.pyplot as plt\n",
        "import seaborn as sns\n",
        "\n",
        "pd.set_option('display.max_columns', 50)\n",
        "sns.set()"
      ],
      "execution_count": 0,
      "outputs": []
    },
    {
      "cell_type": "code",
      "metadata": {
        "id": "VOfgHMXLoUIn",
        "colab_type": "code",
        "outputId": "92cd6bfa-ec30-4b01-e047-633f644e8231",
        "colab": {
          "base_uri": "https://localhost:8080/",
          "height": 17
        }
      },
      "source": [
        "import plotly.tools as tls\n",
        "import plotly\n",
        "import plotly.offline as py\n",
        "from plotly.offline import init_notebook_mode, iplot, plot\n",
        "import plotly.graph_objs as pgo\n",
        "import plotly.express as px\n",
        "\n",
        "init_notebook_mode(connected=True)\n",
        "\n",
        "import scipy.stats as stats"
      ],
      "execution_count": 0,
      "outputs": [
        {
          "output_type": "display_data",
          "data": {
            "text/html": [
              "        <script type=\"text/javascript\">\n",
              "        window.PlotlyConfig = {MathJaxConfig: 'local'};\n",
              "        if (window.MathJax) {MathJax.Hub.Config({SVG: {font: \"STIX-Web\"}});}\n",
              "        if (typeof require !== 'undefined') {\n",
              "        require.undef(\"plotly\");\n",
              "        requirejs.config({\n",
              "            paths: {\n",
              "                'plotly': ['https://cdn.plot.ly/plotly-latest.min']\n",
              "            }\n",
              "        });\n",
              "        require(['plotly'], function(Plotly) {\n",
              "            window._Plotly = Plotly;\n",
              "        });\n",
              "        }\n",
              "        </script>\n",
              "        "
            ]
          },
          "metadata": {
            "tags": []
          }
        }
      ]
    },
    {
      "cell_type": "code",
      "metadata": {
        "id": "k6EmKiLRoUIq",
        "colab_type": "code",
        "colab": {}
      },
      "source": [
        "# functions\n",
        "# Datetime data processing\n",
        "\n",
        "def convert_to_datetime(df, column):\n",
        "    \"\"\"Searches dataframe for potential datetime data and ensures it is \n",
        "    formatted appropriately.  Converts objects to date time format and\n",
        "    appends datetime columns to list of date time columns (erroneously\n",
        "    selected columns excluded).\"\"\"\n",
        "   \n",
        "    try:\n",
        "        df[column] = pd.to_datetime(df[column], unit = 's')\n",
        "    \n",
        "    except Exception:\n",
        "        next\n",
        "    \n",
        "    return df\n",
        "    \n",
        "def meta_date(df, column):\n",
        "    \"\"\"Searches dataframe columns for column names with including word 'date' and \n",
        "    for datetime formats.  \"\"\"\n",
        "    \n",
        "    import re\n",
        "    date_splits = ['Year', 'Month', 'Week', 'Day', 'Dayofweek', 'Dayofyear', \n",
        "                   'Is_month_end', 'Is_month_start', 'Is_quarter_end',  \n",
        "                   'Is_year_end', 'Is_year_start'] \n",
        "    \n",
        "    prefix = re.sub('[Dd]ate$', '', column)\n",
        "  \n",
        "    for split in date_splits:\n",
        "        df[prefix+'_'+split] = getattr(df[column].dt, split.lower())\n",
        "    \n",
        "def count_syllables(blurbs):\n",
        "    \"\"\"Given a string, calculates and returns the number of syllables of the word.\"\"\"\n",
        "    import string\n",
        "    \n",
        "    word_list = blurbs.translate(string.punctuation).split()\n",
        "    vowels = \"aeiouy\"\n",
        "    tally = 0\n",
        "    \n",
        "    for word in word_list:\n",
        "        word = word.lower()\n",
        "        vowels = \"aeiouy\"\n",
        "        count = 0\n",
        "\n",
        "        if word[0] in vowels:\n",
        "            count += 1\n",
        "\n",
        "        for i in range(1, len(word)):\n",
        "            if word[i] in vowels and word[i - 1] not in vowels:\n",
        "                count += 1\n",
        "\n",
        "        if word.endswith('e'):\n",
        "            count -= 1\n",
        "\n",
        "        if count == 0:\n",
        "            count += 1\n",
        "    \n",
        "        tally += count\n",
        "    \n",
        "    return tally\n",
        "\n",
        "def count_words(blurbs):\n",
        "    \"\"\"Returns a count of all words, less punctuation, of a given string.\"\"\"\n",
        "    import string\n",
        "\n",
        "    return len(blurbs.translate(string.punctuation).split())\n",
        "\n",
        "def count_text_attributes(df, columns):\n",
        "    \"\"\"Given columns to convert, returns dataframe with columns replaced with \n",
        "    new columns reflecting word and syllable counts.\"\"\"\n",
        "    \n",
        "    new_df = df.copy()\n",
        "    \n",
        "    for column in columns:\n",
        "        new_df[column+'_syllables'] = [count_syllables(x) for x in df[column]]\n",
        "        new_df[column+'_words'] = [count_words(x) for x in df[column]]\n",
        "    \n",
        "    new_df = new_df.drop(columns=columns, axis=1)\n",
        "    \n",
        "    return new_df \n",
        "        \n",
        "def confusion_matrix_stats(model, x, y):\n",
        "    \"\"\"Given a model, x, and y values the function returns \n",
        "    a confusion matrix table and percentage of Type I and \n",
        "    Type II errors.  Function can return a single matrix or two \n",
        "    matrices for comparing train and test sets.  \n",
        "    Input for confusion matrix stats for both train and test sets\n",
        "    is as follows:\n",
        "     \n",
        "        confusion_matrix_stats(model, [X_train, X_test], [y_train, y_test])\n",
        "     \n",
        "     To avoid confusion when reading matrices and error stats, order entry of \n",
        "     train and test should be observed; 'train' sets should preceed 'test' sets.\"\"\"\n",
        "\n",
        "    if len(x) > 2:\n",
        "        predict = model.predict(x)\n",
        "        table = pd.crosstab(y, predict, margins=True)\n",
        "        tI = tabel\n",
        "        print(('----- Confusion Matrix -----\\n' \n",
        "               f'{table}\\n' '\\n' f'Accuracy:\\n' \n",
        "               f'Percent Type I errors: {tI}\\n' \n",
        "               f'Percent Type II errors: {tII}\\n'))\n",
        "\n",
        "    else:\n",
        "        splits = ['Train set', 'Test set']\n",
        "        for i,split in enumerate(x):\n",
        "            predict = model.predict(split)\n",
        "            table = pd.crosstab(y[i], predict, margins=True)\n",
        "            tI = table.loc[0.0, 1.0] / table.loc['All', 'All']\n",
        "            tII = table.loc[1.0, 0.0] / table.loc['All', 'All']\n",
        "\n",
        "            print(('\\n' f'----- {splits[i]} Confusion Matrix -----\\n' \n",
        "                   f'{table}\\n' '\\n' \n",
        "                   f'----- {splits[i]} Accuracy -----\\n' \n",
        "                   f'Percent Type I errors: {tI}\\n' \n",
        "                   f'Percent Type II errors: {tII}\\n'))\n"
      ],
      "execution_count": 0,
      "outputs": []
    },
    {
      "cell_type": "code",
      "metadata": {
        "id": "FlCk-2ZHNuyT",
        "colab_type": "code",
        "colab": {}
      },
      "source": [
        ""
      ],
      "execution_count": 0,
      "outputs": []
    },
    {
      "cell_type": "code",
      "metadata": {
        "id": "3pDG6jW-NvhL",
        "colab_type": "code",
        "outputId": "19d7af38-137e-45ea-fc5b-58d61cb55484",
        "colab": {
          "base_uri": "https://localhost:8080/",
          "height": 34
        }
      },
      "source": [
        "from google.colab import drive\n",
        "drive.mount('/content/drive')"
      ],
      "execution_count": 0,
      "outputs": [
        {
          "output_type": "stream",
          "text": [
            "Drive already mounted at /content/drive; to attempt to forcibly remount, call drive.mount(\"/content/drive\", force_remount=True).\n"
          ],
          "name": "stdout"
        }
      ]
    },
    {
      "cell_type": "code",
      "metadata": {
        "scrolled": false,
        "id": "32sonppzoUIs",
        "colab_type": "code",
        "outputId": "5ae2be4c-da0f-47b6-b170-36894451b47b",
        "colab": {
          "base_uri": "https://localhost:8080/",
          "height": 513
        }
      },
      "source": [
        "path = '/content/drive/My Drive/Colab Notebooks/Thinkful/Module 21 - Supervised Learning Capstone/data/ks_data.csv'\n",
        "\n",
        "df = pd.read_csv(path, low_memory=False)\n",
        "\n",
        "df.head()"
      ],
      "execution_count": 0,
      "outputs": [
        {
          "output_type": "execute_result",
          "data": {
            "text/html": [
              "<div>\n",
              "<style scoped>\n",
              "    .dataframe tbody tr th:only-of-type {\n",
              "        vertical-align: middle;\n",
              "    }\n",
              "\n",
              "    .dataframe tbody tr th {\n",
              "        vertical-align: top;\n",
              "    }\n",
              "\n",
              "    .dataframe thead th {\n",
              "        text-align: right;\n",
              "    }\n",
              "</style>\n",
              "<table border=\"1\" class=\"dataframe\">\n",
              "  <thead>\n",
              "    <tr style=\"text-align: right;\">\n",
              "      <th></th>\n",
              "      <th>Unnamed: 0</th>\n",
              "      <th>backers_count</th>\n",
              "      <th>blurb</th>\n",
              "      <th>category</th>\n",
              "      <th>converted_pledged_amount</th>\n",
              "      <th>country</th>\n",
              "      <th>country_displayable_name</th>\n",
              "      <th>created_at</th>\n",
              "      <th>creator</th>\n",
              "      <th>currency</th>\n",
              "      <th>currency_symbol</th>\n",
              "      <th>currency_trailing_code</th>\n",
              "      <th>current_currency</th>\n",
              "      <th>deadline</th>\n",
              "      <th>disable_communication</th>\n",
              "      <th>friends</th>\n",
              "      <th>fx_rate</th>\n",
              "      <th>goal</th>\n",
              "      <th>id</th>\n",
              "      <th>is_backing</th>\n",
              "      <th>is_starrable</th>\n",
              "      <th>is_starred</th>\n",
              "      <th>last_update_published_at</th>\n",
              "      <th>launched_at</th>\n",
              "      <th>location</th>\n",
              "      <th>name</th>\n",
              "      <th>permissions</th>\n",
              "      <th>photo</th>\n",
              "      <th>pledged</th>\n",
              "      <th>profile</th>\n",
              "      <th>slug</th>\n",
              "      <th>source_url</th>\n",
              "      <th>spotlight</th>\n",
              "      <th>staff_pick</th>\n",
              "      <th>state</th>\n",
              "      <th>state_changed_at</th>\n",
              "      <th>static_usd_rate</th>\n",
              "      <th>unread_messages_count</th>\n",
              "      <th>unseen_activity_count</th>\n",
              "      <th>urls</th>\n",
              "      <th>usd_pledged</th>\n",
              "      <th>usd_type</th>\n",
              "    </tr>\n",
              "  </thead>\n",
              "  <tbody>\n",
              "    <tr>\n",
              "      <th>0</th>\n",
              "      <td>0</td>\n",
              "      <td>1</td>\n",
              "      <td>To create art, an artist must have their tools...</td>\n",
              "      <td>{\"urls\":{\"web\":{\"discover\":\"http://www.kicksta...</td>\n",
              "      <td>NaN</td>\n",
              "      <td>US</td>\n",
              "      <td>NaN</td>\n",
              "      <td>1428557824</td>\n",
              "      <td>{\"urls\":{\"web\":{\"user\":\"https://www.kickstarte...</td>\n",
              "      <td>USD</td>\n",
              "      <td>$</td>\n",
              "      <td>True</td>\n",
              "      <td>NaN</td>\n",
              "      <td>1429770591</td>\n",
              "      <td>False</td>\n",
              "      <td>NaN</td>\n",
              "      <td>NaN</td>\n",
              "      <td>400.0</td>\n",
              "      <td>2141932586</td>\n",
              "      <td>NaN</td>\n",
              "      <td>NaN</td>\n",
              "      <td>NaN</td>\n",
              "      <td>NaN</td>\n",
              "      <td>1428560991</td>\n",
              "      <td>{\"country\":\"US\",\"urls\":{\"web\":{\"discover\":\"htt...</td>\n",
              "      <td>Tools of the Trade (Canceled)</td>\n",
              "      <td>NaN</td>\n",
              "      <td>{\"small\":\"https://ksr-ugc.imgix.net/projects/1...</td>\n",
              "      <td>20.0</td>\n",
              "      <td>{\"background_image_opacity\":0.8,\"link_text_col...</td>\n",
              "      <td>tools-of-the-trade</td>\n",
              "      <td>https://www.kickstarter.com/discover/categorie...</td>\n",
              "      <td>False</td>\n",
              "      <td>False</td>\n",
              "      <td>canceled</td>\n",
              "      <td>1429332018</td>\n",
              "      <td>1.000000</td>\n",
              "      <td>NaN</td>\n",
              "      <td>NaN</td>\n",
              "      <td>{\"web\":{\"project\":\"https://www.kickstarter.com...</td>\n",
              "      <td>20.000000</td>\n",
              "      <td>NaN</td>\n",
              "    </tr>\n",
              "    <tr>\n",
              "      <th>1</th>\n",
              "      <td>1</td>\n",
              "      <td>0</td>\n",
              "      <td>Firestarter kits for revolutionaries! markers,...</td>\n",
              "      <td>{\"urls\":{\"web\":{\"discover\":\"http://www.kicksta...</td>\n",
              "      <td>NaN</td>\n",
              "      <td>US</td>\n",
              "      <td>NaN</td>\n",
              "      <td>1453437274</td>\n",
              "      <td>{\"urls\":{\"web\":{\"user\":\"https://www.kickstarte...</td>\n",
              "      <td>USD</td>\n",
              "      <td>$</td>\n",
              "      <td>True</td>\n",
              "      <td>NaN</td>\n",
              "      <td>1455244263</td>\n",
              "      <td>False</td>\n",
              "      <td>NaN</td>\n",
              "      <td>NaN</td>\n",
              "      <td>63000.0</td>\n",
              "      <td>569937661</td>\n",
              "      <td>NaN</td>\n",
              "      <td>NaN</td>\n",
              "      <td>NaN</td>\n",
              "      <td>NaN</td>\n",
              "      <td>1453948263</td>\n",
              "      <td>{\"country\":\"US\",\"urls\":{\"web\":{\"discover\":\"htt...</td>\n",
              "      <td>PROJECT FLINT</td>\n",
              "      <td>NaN</td>\n",
              "      <td>{\"small\":\"https://ksr-ugc.imgix.net/projects/2...</td>\n",
              "      <td>0.0</td>\n",
              "      <td>{\"background_image_opacity\":0.8,\"link_text_col...</td>\n",
              "      <td>project-flint</td>\n",
              "      <td>https://www.kickstarter.com/discover/categorie...</td>\n",
              "      <td>False</td>\n",
              "      <td>False</td>\n",
              "      <td>live</td>\n",
              "      <td>1453948263</td>\n",
              "      <td>1.000000</td>\n",
              "      <td>NaN</td>\n",
              "      <td>NaN</td>\n",
              "      <td>{\"web\":{\"project\":\"https://www.kickstarter.com...</td>\n",
              "      <td>0.000000</td>\n",
              "      <td>NaN</td>\n",
              "    </tr>\n",
              "    <tr>\n",
              "      <th>2</th>\n",
              "      <td>2</td>\n",
              "      <td>3</td>\n",
              "      <td>Sophie is an aspiring artist! She will be 5 in...</td>\n",
              "      <td>{\"urls\":{\"web\":{\"discover\":\"http://www.kicksta...</td>\n",
              "      <td>NaN</td>\n",
              "      <td>US</td>\n",
              "      <td>NaN</td>\n",
              "      <td>1409805071</td>\n",
              "      <td>{\"urls\":{\"web\":{\"user\":\"https://www.kickstarte...</td>\n",
              "      <td>USD</td>\n",
              "      <td>$</td>\n",
              "      <td>True</td>\n",
              "      <td>NaN</td>\n",
              "      <td>1412906207</td>\n",
              "      <td>False</td>\n",
              "      <td>NaN</td>\n",
              "      <td>NaN</td>\n",
              "      <td>1000.0</td>\n",
              "      <td>1619161443</td>\n",
              "      <td>NaN</td>\n",
              "      <td>NaN</td>\n",
              "      <td>NaN</td>\n",
              "      <td>NaN</td>\n",
              "      <td>1410314207</td>\n",
              "      <td>{\"country\":\"US\",\"urls\":{\"web\":{\"discover\":\"htt...</td>\n",
              "      <td>4 year old creates art for her future education.</td>\n",
              "      <td>NaN</td>\n",
              "      <td>{\"small\":\"https://ksr-ugc.imgix.net/projects/1...</td>\n",
              "      <td>120.0</td>\n",
              "      <td>{\"background_image_opacity\":0.8,\"link_text_col...</td>\n",
              "      <td>4-year-old-creates-art-for-her-future-education</td>\n",
              "      <td>https://www.kickstarter.com/discover/categorie...</td>\n",
              "      <td>False</td>\n",
              "      <td>False</td>\n",
              "      <td>failed</td>\n",
              "      <td>1412906207</td>\n",
              "      <td>1.000000</td>\n",
              "      <td>NaN</td>\n",
              "      <td>NaN</td>\n",
              "      <td>{\"web\":{\"project\":\"https://www.kickstarter.com...</td>\n",
              "      <td>120.000000</td>\n",
              "      <td>NaN</td>\n",
              "    </tr>\n",
              "    <tr>\n",
              "      <th>3</th>\n",
              "      <td>3</td>\n",
              "      <td>4870</td>\n",
              "      <td>Every spinning top — is built on the same beli...</td>\n",
              "      <td>{\"urls\":{\"web\":{\"discover\":\"http://www.kicksta...</td>\n",
              "      <td>NaN</td>\n",
              "      <td>CA</td>\n",
              "      <td>NaN</td>\n",
              "      <td>1448217795</td>\n",
              "      <td>{\"urls\":{\"web\":{\"user\":\"https://www.kickstarte...</td>\n",
              "      <td>CAD</td>\n",
              "      <td>$</td>\n",
              "      <td>True</td>\n",
              "      <td>NaN</td>\n",
              "      <td>1453348800</td>\n",
              "      <td>False</td>\n",
              "      <td>NaN</td>\n",
              "      <td>NaN</td>\n",
              "      <td>10000.0</td>\n",
              "      <td>347223099</td>\n",
              "      <td>NaN</td>\n",
              "      <td>NaN</td>\n",
              "      <td>NaN</td>\n",
              "      <td>NaN</td>\n",
              "      <td>1450226362</td>\n",
              "      <td>{\"country\":\"CA\",\"urls\":{\"web\":{\"discover\":\"htt...</td>\n",
              "      <td>ForeverSpin™ -  World Famous Spinning Tops</td>\n",
              "      <td>NaN</td>\n",
              "      <td>{\"small\":\"https://ksr-ugc.imgix.net/projects/2...</td>\n",
              "      <td>736320.0</td>\n",
              "      <td>{\"background_image_opacity\":0.8,\"link_text_col...</td>\n",
              "      <td>foreverspintm-world-famous-spinning-tops</td>\n",
              "      <td>https://www.kickstarter.com/discover/categorie...</td>\n",
              "      <td>True</td>\n",
              "      <td>False</td>\n",
              "      <td>successful</td>\n",
              "      <td>1453348801</td>\n",
              "      <td>0.729370</td>\n",
              "      <td>NaN</td>\n",
              "      <td>NaN</td>\n",
              "      <td>{\"web\":{\"project\":\"https://www.kickstarter.com...</td>\n",
              "      <td>537049.814122</td>\n",
              "      <td>NaN</td>\n",
              "    </tr>\n",
              "    <tr>\n",
              "      <th>4</th>\n",
              "      <td>4</td>\n",
              "      <td>0</td>\n",
              "      <td>Watch your children as they open this giant su...</td>\n",
              "      <td>{\"urls\":{\"web\":{\"discover\":\"http://www.kicksta...</td>\n",
              "      <td>NaN</td>\n",
              "      <td>GB</td>\n",
              "      <td>NaN</td>\n",
              "      <td>1452957332</td>\n",
              "      <td>{\"urls\":{\"web\":{\"user\":\"https://www.kickstarte...</td>\n",
              "      <td>GBP</td>\n",
              "      <td>£</td>\n",
              "      <td>False</td>\n",
              "      <td>NaN</td>\n",
              "      <td>1455826993</td>\n",
              "      <td>False</td>\n",
              "      <td>NaN</td>\n",
              "      <td>NaN</td>\n",
              "      <td>5000.0</td>\n",
              "      <td>802476078</td>\n",
              "      <td>NaN</td>\n",
              "      <td>NaN</td>\n",
              "      <td>NaN</td>\n",
              "      <td>NaN</td>\n",
              "      <td>1453234993</td>\n",
              "      <td>{\"country\":\"GB\",\"urls\":{\"web\":{\"discover\":\"htt...</td>\n",
              "      <td>Gaint surprise</td>\n",
              "      <td>NaN</td>\n",
              "      <td>{\"small\":\"https://ksr-ugc.imgix.net/projects/2...</td>\n",
              "      <td>0.0</td>\n",
              "      <td>{\"background_image_opacity\":0.8,\"link_text_col...</td>\n",
              "      <td>gaint-surprise</td>\n",
              "      <td>https://www.kickstarter.com/discover/categorie...</td>\n",
              "      <td>False</td>\n",
              "      <td>False</td>\n",
              "      <td>live</td>\n",
              "      <td>1453234993</td>\n",
              "      <td>1.427462</td>\n",
              "      <td>NaN</td>\n",
              "      <td>NaN</td>\n",
              "      <td>{\"web\":{\"project\":\"https://www.kickstarter.com...</td>\n",
              "      <td>0.000000</td>\n",
              "      <td>NaN</td>\n",
              "    </tr>\n",
              "  </tbody>\n",
              "</table>\n",
              "</div>"
            ],
            "text/plain": [
              "   Unnamed: 0  backers_count  \\\n",
              "0           0              1   \n",
              "1           1              0   \n",
              "2           2              3   \n",
              "3           3           4870   \n",
              "4           4              0   \n",
              "\n",
              "                                               blurb  \\\n",
              "0  To create art, an artist must have their tools...   \n",
              "1  Firestarter kits for revolutionaries! markers,...   \n",
              "2  Sophie is an aspiring artist! She will be 5 in...   \n",
              "3  Every spinning top — is built on the same beli...   \n",
              "4  Watch your children as they open this giant su...   \n",
              "\n",
              "                                            category  \\\n",
              "0  {\"urls\":{\"web\":{\"discover\":\"http://www.kicksta...   \n",
              "1  {\"urls\":{\"web\":{\"discover\":\"http://www.kicksta...   \n",
              "2  {\"urls\":{\"web\":{\"discover\":\"http://www.kicksta...   \n",
              "3  {\"urls\":{\"web\":{\"discover\":\"http://www.kicksta...   \n",
              "4  {\"urls\":{\"web\":{\"discover\":\"http://www.kicksta...   \n",
              "\n",
              "   converted_pledged_amount country country_displayable_name  created_at  \\\n",
              "0                       NaN      US                      NaN  1428557824   \n",
              "1                       NaN      US                      NaN  1453437274   \n",
              "2                       NaN      US                      NaN  1409805071   \n",
              "3                       NaN      CA                      NaN  1448217795   \n",
              "4                       NaN      GB                      NaN  1452957332   \n",
              "\n",
              "                                             creator currency currency_symbol  \\\n",
              "0  {\"urls\":{\"web\":{\"user\":\"https://www.kickstarte...      USD               $   \n",
              "1  {\"urls\":{\"web\":{\"user\":\"https://www.kickstarte...      USD               $   \n",
              "2  {\"urls\":{\"web\":{\"user\":\"https://www.kickstarte...      USD               $   \n",
              "3  {\"urls\":{\"web\":{\"user\":\"https://www.kickstarte...      CAD               $   \n",
              "4  {\"urls\":{\"web\":{\"user\":\"https://www.kickstarte...      GBP               £   \n",
              "\n",
              "   currency_trailing_code current_currency    deadline  disable_communication  \\\n",
              "0                    True              NaN  1429770591                  False   \n",
              "1                    True              NaN  1455244263                  False   \n",
              "2                    True              NaN  1412906207                  False   \n",
              "3                    True              NaN  1453348800                  False   \n",
              "4                   False              NaN  1455826993                  False   \n",
              "\n",
              "  friends  fx_rate     goal          id is_backing is_starrable is_starred  \\\n",
              "0     NaN      NaN    400.0  2141932586        NaN          NaN        NaN   \n",
              "1     NaN      NaN  63000.0   569937661        NaN          NaN        NaN   \n",
              "2     NaN      NaN   1000.0  1619161443        NaN          NaN        NaN   \n",
              "3     NaN      NaN  10000.0   347223099        NaN          NaN        NaN   \n",
              "4     NaN      NaN   5000.0   802476078        NaN          NaN        NaN   \n",
              "\n",
              "   last_update_published_at  launched_at  \\\n",
              "0                       NaN   1428560991   \n",
              "1                       NaN   1453948263   \n",
              "2                       NaN   1410314207   \n",
              "3                       NaN   1450226362   \n",
              "4                       NaN   1453234993   \n",
              "\n",
              "                                            location  \\\n",
              "0  {\"country\":\"US\",\"urls\":{\"web\":{\"discover\":\"htt...   \n",
              "1  {\"country\":\"US\",\"urls\":{\"web\":{\"discover\":\"htt...   \n",
              "2  {\"country\":\"US\",\"urls\":{\"web\":{\"discover\":\"htt...   \n",
              "3  {\"country\":\"CA\",\"urls\":{\"web\":{\"discover\":\"htt...   \n",
              "4  {\"country\":\"GB\",\"urls\":{\"web\":{\"discover\":\"htt...   \n",
              "\n",
              "                                               name permissions  \\\n",
              "0                     Tools of the Trade (Canceled)         NaN   \n",
              "1                                     PROJECT FLINT         NaN   \n",
              "2  4 year old creates art for her future education.         NaN   \n",
              "3        ForeverSpin™ -  World Famous Spinning Tops         NaN   \n",
              "4                                    Gaint surprise         NaN   \n",
              "\n",
              "                                               photo   pledged  \\\n",
              "0  {\"small\":\"https://ksr-ugc.imgix.net/projects/1...      20.0   \n",
              "1  {\"small\":\"https://ksr-ugc.imgix.net/projects/2...       0.0   \n",
              "2  {\"small\":\"https://ksr-ugc.imgix.net/projects/1...     120.0   \n",
              "3  {\"small\":\"https://ksr-ugc.imgix.net/projects/2...  736320.0   \n",
              "4  {\"small\":\"https://ksr-ugc.imgix.net/projects/2...       0.0   \n",
              "\n",
              "                                             profile  \\\n",
              "0  {\"background_image_opacity\":0.8,\"link_text_col...   \n",
              "1  {\"background_image_opacity\":0.8,\"link_text_col...   \n",
              "2  {\"background_image_opacity\":0.8,\"link_text_col...   \n",
              "3  {\"background_image_opacity\":0.8,\"link_text_col...   \n",
              "4  {\"background_image_opacity\":0.8,\"link_text_col...   \n",
              "\n",
              "                                              slug  \\\n",
              "0                               tools-of-the-trade   \n",
              "1                                    project-flint   \n",
              "2  4-year-old-creates-art-for-her-future-education   \n",
              "3         foreverspintm-world-famous-spinning-tops   \n",
              "4                                   gaint-surprise   \n",
              "\n",
              "                                          source_url  spotlight  staff_pick  \\\n",
              "0  https://www.kickstarter.com/discover/categorie...      False       False   \n",
              "1  https://www.kickstarter.com/discover/categorie...      False       False   \n",
              "2  https://www.kickstarter.com/discover/categorie...      False       False   \n",
              "3  https://www.kickstarter.com/discover/categorie...       True       False   \n",
              "4  https://www.kickstarter.com/discover/categorie...      False       False   \n",
              "\n",
              "        state  state_changed_at  static_usd_rate  unread_messages_count  \\\n",
              "0    canceled        1429332018         1.000000                    NaN   \n",
              "1        live        1453948263         1.000000                    NaN   \n",
              "2      failed        1412906207         1.000000                    NaN   \n",
              "3  successful        1453348801         0.729370                    NaN   \n",
              "4        live        1453234993         1.427462                    NaN   \n",
              "\n",
              "   unseen_activity_count                                               urls  \\\n",
              "0                    NaN  {\"web\":{\"project\":\"https://www.kickstarter.com...   \n",
              "1                    NaN  {\"web\":{\"project\":\"https://www.kickstarter.com...   \n",
              "2                    NaN  {\"web\":{\"project\":\"https://www.kickstarter.com...   \n",
              "3                    NaN  {\"web\":{\"project\":\"https://www.kickstarter.com...   \n",
              "4                    NaN  {\"web\":{\"project\":\"https://www.kickstarter.com...   \n",
              "\n",
              "     usd_pledged usd_type  \n",
              "0      20.000000      NaN  \n",
              "1       0.000000      NaN  \n",
              "2     120.000000      NaN  \n",
              "3  537049.814122      NaN  \n",
              "4       0.000000      NaN  "
            ]
          },
          "metadata": {
            "tags": []
          },
          "execution_count": 5
        }
      ]
    },
    {
      "cell_type": "code",
      "metadata": {
        "scrolled": false,
        "id": "ICzPgrbgoUIt",
        "colab_type": "code",
        "outputId": "63f193a0-f4b0-4143-f112-0ed39f1ed279",
        "colab": {
          "base_uri": "https://localhost:8080/",
          "height": 816
        }
      },
      "source": [
        "df.info()"
      ],
      "execution_count": 0,
      "outputs": [
        {
          "output_type": "stream",
          "text": [
            "<class 'pandas.core.frame.DataFrame'>\n",
            "RangeIndex: 338209 entries, 0 to 338208\n",
            "Data columns (total 42 columns):\n",
            "Unnamed: 0                  338209 non-null int64\n",
            "backers_count               338209 non-null int64\n",
            "blurb                       338191 non-null object\n",
            "category                    338209 non-null object\n",
            "converted_pledged_amount    278386 non-null float64\n",
            "country                     338209 non-null object\n",
            "country_displayable_name    179782 non-null object\n",
            "created_at                  338209 non-null int64\n",
            "creator                     338209 non-null object\n",
            "currency                    338209 non-null object\n",
            "currency_symbol             338209 non-null object\n",
            "currency_trailing_code      338209 non-null bool\n",
            "current_currency            278386 non-null object\n",
            "deadline                    338209 non-null int64\n",
            "disable_communication       338209 non-null bool\n",
            "friends                     1337 non-null object\n",
            "fx_rate                     276499 non-null float64\n",
            "goal                        338209 non-null float64\n",
            "id                          338209 non-null int64\n",
            "is_backing                  1337 non-null object\n",
            "is_starrable                289507 non-null object\n",
            "is_starred                  1337 non-null object\n",
            "last_update_published_at    0 non-null float64\n",
            "launched_at                 338209 non-null int64\n",
            "location                    337137 non-null object\n",
            "name                        338206 non-null object\n",
            "permissions                 1217 non-null object\n",
            "photo                       338209 non-null object\n",
            "pledged                     338209 non-null float64\n",
            "profile                     338209 non-null object\n",
            "slug                        338209 non-null object\n",
            "source_url                  321864 non-null object\n",
            "spotlight                   338209 non-null bool\n",
            "staff_pick                  338209 non-null bool\n",
            "state                       338209 non-null object\n",
            "state_changed_at            338209 non-null int64\n",
            "static_usd_rate             338209 non-null float64\n",
            "unread_messages_count       0 non-null float64\n",
            "unseen_activity_count       0 non-null float64\n",
            "urls                        338209 non-null object\n",
            "usd_pledged                 338209 non-null float64\n",
            "usd_type                    276865 non-null object\n",
            "dtypes: bool(4), float64(9), int64(7), object(22)\n",
            "memory usage: 99.3+ MB\n"
          ],
          "name": "stdout"
        }
      ]
    },
    {
      "cell_type": "markdown",
      "metadata": {
        "id": "I9UPrmvaoUIv",
        "colab_type": "text"
      },
      "source": [
        "The cleaning process will require appropriately exploring each feature and appropriately preparing it for use in a model.  At first glance, a number of columns have missing data, columns with date-time data will need to be converted, several columns contain nested data, and object data will need to be explored to determine how it may be handled.\n",
        "\n",
        "Columns of interest:\n",
        "\n",
        "* Columns the provide no information\n",
        " * 'Unnamed: 0' is just an index.\n",
        " * 0 non-null columns:\n",
        "   * 'last_update_published_at\n",
        "   * 'unread_messages_count'\n",
        "   * 'unseen_activity_count'\n",
        "* Unique text columns that may contain useful sentiment data:\n",
        " * 'blurb'\n",
        " * 'name'\n",
        " * 'slug'\n",
        "* Columns with nested data may contain more useful data.  Will need to be normalized:\n",
        " * 'category'\n",
        " * 'creator'\n",
        " * 'location'\n",
        " * 'photo'\n",
        " * 'profile'\n",
        " * 'urls'\n",
        "* columns with date-time information may need to be converted to date-time\n",
        " * 'created_at'\n",
        " * 'deadline'\n",
        " * 'launched_at'\n",
        " * 'state_changed_at'\n",
        "* potential target, or specific target oriented, columns to explore\n",
        " * 'state'\n",
        " * 'goal'\n",
        " * 'pledged'\n",
        " * 'usd_pledged'\n",
        " * 'converted_pledge_amount'\n",
        "* columns with currency information may include redundant information.  \n",
        " * 'currency'\n",
        " * 'currency_symbol'\n",
        " * 'currency_trailing_code'\n",
        " * 'current_currency'\n",
        " * 'static_usd_rate'\n",
        " \n",
        " "
      ]
    },
    {
      "cell_type": "code",
      "metadata": {
        "id": "o-1km4JGoUIw",
        "colab_type": "code",
        "colab": {}
      },
      "source": [
        "# Drop the columns with no information\n",
        "df = df.drop(columns=['Unnamed: 0', 'last_update_published_at', 'unread_messages_count',\n",
        "                      'unseen_activity_count'], axis=1)"
      ],
      "execution_count": 0,
      "outputs": []
    },
    {
      "cell_type": "markdown",
      "metadata": {
        "id": "2JDoJnzLoUIy",
        "colab_type": "text"
      },
      "source": [
        "### Text Columns\n",
        "\n",
        "The 'slug' and 'name' columns are very similar.  In fact, the 'slug' appears to match the 'name' or, in some cases, is a shortened version of the 'name'; its use is within the url.  Handling of 'slug' and 'name' data will be of similar impact.\n",
        "\n",
        "The 'blurb' column may yield content of interest if analyzed for sentiment, complexity, or for specific words contained within the text.  These columns most likely do not require attention at this stage; they will be addressed in feature engineering."
      ]
    },
    {
      "cell_type": "markdown",
      "metadata": {
        "id": "Tqw7qVtLoUIy",
        "colab_type": "text"
      },
      "source": [
        "### Nested Data\n",
        "\n",
        "Nested data appear to contain web addresses that may be present a limit to their usefulness.  Assuming these columns are resditual json nests, they should contain similar information along their respective columns.  Before attempting to normalize, the first couple instances of each nested column will be observed to determine the next steps."
      ]
    },
    {
      "cell_type": "code",
      "metadata": {
        "scrolled": false,
        "id": "g5NEV2CNoUIz",
        "colab_type": "code",
        "outputId": "ea87d94f-c804-45e9-f3b0-7b1509d5174a",
        "colab": {
          "base_uri": "https://localhost:8080/",
          "height": 136
        }
      },
      "source": [
        "json.loads(df['category'][3])"
      ],
      "execution_count": 0,
      "outputs": [
        {
          "output_type": "execute_result",
          "data": {
            "text/plain": [
              "{'color': 2577151,\n",
              " 'id': 28,\n",
              " 'name': 'Product Design',\n",
              " 'parent_id': 7,\n",
              " 'position': 5,\n",
              " 'slug': 'design/product design',\n",
              " 'urls': {'web': {'discover': 'http://www.kickstarter.com/discover/categories/design/product%20design'}}}"
            ]
          },
          "metadata": {
            "tags": []
          },
          "execution_count": 8
        }
      ]
    },
    {
      "cell_type": "markdown",
      "metadata": {
        "id": "0zqNry9KoUI1",
        "colab_type": "text"
      },
      "source": [
        "Categories actually appear to be sub-categories.  Cleaning may require extraction and appropriate defining of categories and sub-categories.  Either normalization or a developing a strategy to extract useful data will be performed.\n",
        "\n",
        "<bold>Strategy</bold>\n",
        "A 'parent_id' indicating a parent category is included in the data.  Additionally, an 'id' is included to designate the category.  A function could be used to extract data and create a dictionary of category, parent category, and their respective ids.  \n",
        "\n",
        "Additionally, mapping the ids to categories and parent categories will convert the columns to numeric data that can be used in the model."
      ]
    },
    {
      "cell_type": "code",
      "metadata": {
        "id": "CSF3gqvFoUI1",
        "colab_type": "code",
        "colab": {}
      },
      "source": [
        "# keys of interest\n",
        "keys = ['slug', 'name']\n",
        "\n",
        "# Collect extracted data in lists\n",
        "parent_category = []\n",
        "sub_category = []\n",
        "\n",
        "# Extract data\n",
        "for i, x in enumerate(df['category']):\n",
        "    nest = json.loads(df['category'][i])\n",
        "    remove = nest.get(keys[1]).lower()\n",
        "    \n",
        "    p_cat = nest.get(keys[0]).replace('/'+remove, '')\n",
        "    \n",
        "    parent_category.append(p_cat)\n",
        "    sub_category.append(remove)\n",
        "\n",
        "df['parent_category'] = parent_category\n",
        "df['sub_category'] = sub_category"
      ],
      "execution_count": 0,
      "outputs": []
    },
    {
      "cell_type": "code",
      "metadata": {
        "scrolled": false,
        "id": "QZ9tnkK2oUI3",
        "colab_type": "code",
        "outputId": "f758d523-4ce6-4853-99e1-b525a3d70fdc",
        "colab": {
          "base_uri": "https://localhost:8080/",
          "height": 136
        }
      },
      "source": [
        "json.loads(df['creator'][3])"
      ],
      "execution_count": 0,
      "outputs": [
        {
          "output_type": "execute_result",
          "data": {
            "text/plain": [
              "{'avatar': {'medium': 'https://ksr-ugc.imgix.net/avatars/9098786/spinningtop2.original.jpg?v=1387850412&w=160&h=160&fit=crop&auto=format&q=92&s=2f904ef8b2a0bf371732ce8fac4d0a9a',\n",
              "  'small': 'https://ksr-ugc.imgix.net/avatars/9098786/spinningtop2.original.jpg?v=1387850412&w=80&h=80&fit=crop&auto=format&q=92&s=4279a4b9a236843171dbb8f07069fb17',\n",
              "  'thumb': 'https://ksr-ugc.imgix.net/avatars/9098786/spinningtop2.original.jpg?v=1387850412&w=40&h=40&fit=crop&auto=format&q=92&s=4fba06baf08f134c4cef30e5cf52a467'},\n",
              " 'id': 1251371853,\n",
              " 'name': 'ForeverSpin.com',\n",
              " 'urls': {'api': {'user': 'https://api.kickstarter.com/v1/users/1251371853?signature=1454069387.9df172af8c30f752ec8fbede1b2536f91545392c'},\n",
              "  'web': {'user': 'https://www.kickstarter.com/profile/1251371853'}}}"
            ]
          },
          "metadata": {
            "tags": []
          },
          "execution_count": 10
        }
      ]
    },
    {
      "cell_type": "markdown",
      "metadata": {
        "id": "hewdi7YfoUI5",
        "colab_type": "text"
      },
      "source": [
        "Web address data listed inside are of profile and avatar/image data.  The profile information within this column appears redundant.  While avatar and image analysis may be interesting, they are currently outside the scope of this experiment; normalization is unnecessary."
      ]
    },
    {
      "cell_type": "code",
      "metadata": {
        "id": "n1qzx79xoUI5",
        "colab_type": "code",
        "outputId": "2971f0d6-fd1f-478f-9e39-2af09cb82228",
        "colab": {
          "base_uri": "https://localhost:8080/",
          "height": 221
        }
      },
      "source": [
        "json.loads(df['location'][3])"
      ],
      "execution_count": 0,
      "outputs": [
        {
          "output_type": "execute_result",
          "data": {
            "text/plain": [
              "{'country': 'CA',\n",
              " 'displayable_name': 'Toronto, Canada',\n",
              " 'id': 4118,\n",
              " 'is_root': False,\n",
              " 'name': 'Toronto',\n",
              " 'short_name': 'Toronto, Canada',\n",
              " 'slug': 'toronto-on-ca',\n",
              " 'state': 'ON',\n",
              " 'type': 'Town',\n",
              " 'urls': {'api': {'nearby_projects': 'https://api.kickstarter.com/v1/discover?signature=1454065872.71501ccc743715fe29a0c2248f8a3fd4bb82b9ad&woe_id=4118'},\n",
              "  'web': {'discover': 'https://www.kickstarter.com/discover/places/toronto-on-ca',\n",
              "   'location': 'https://www.kickstarter.com/locations/toronto-on-ca'}}}"
            ]
          },
          "metadata": {
            "tags": []
          },
          "execution_count": 11
        }
      ]
    },
    {
      "cell_type": "markdown",
      "metadata": {
        "id": "vJKtJCndoUI7",
        "colab_type": "text"
      },
      "source": [
        "Location could be interesting.  While country name would be redundant, the 'name' data within creates more specificity that could be useful. A strategy for extracting the 'name', 'short_name', and/or 'id' may be useful additional location data.  On the other hand, extracting cities from countries could introduce greater dimensionality into the model.  Additionally, attempting to impute missing values for cities could introduce unnecessary bias.  This data may be revisited later."
      ]
    },
    {
      "cell_type": "code",
      "metadata": {
        "scrolled": true,
        "id": "S323OmazoUI8",
        "colab_type": "code",
        "outputId": "cfb7f56b-81eb-4ec8-dbbc-78b3b65a6868",
        "colab": {
          "base_uri": "https://localhost:8080/",
          "height": 170
        }
      },
      "source": [
        "json.loads(df['photo'][3])"
      ],
      "execution_count": 0,
      "outputs": [
        {
          "output_type": "execute_result",
          "data": {
            "text/plain": [
              "{'1024x768': 'https://ksr-ugc.imgix.net/projects/2202666/photo-original.png?v=1448218961&w=1024&h=768&fit=crop&auto=format&q=92&s=873c9b6269e4779d4402dfd3df90f0cb',\n",
              " '1536x1152': 'https://ksr-ugc.imgix.net/projects/2202666/photo-original.png?v=1448218961&w=1536&h=1152&fit=crop&auto=format&q=92&s=cb053edc1f06520895b448943f8b5377',\n",
              " 'ed': 'https://ksr-ugc.imgix.net/projects/2202666/photo-original.png?v=1448218961&w=338&h=250&fit=crop&auto=format&q=92&s=0b17be831806317e6546b4f81d1216cc',\n",
              " 'full': 'https://ksr-ugc.imgix.net/projects/2202666/photo-original.png?v=1448218961&w=560&h=420&fit=crop&auto=format&q=92&s=70a49a6895caa2eab39639a83cadc2f5',\n",
              " 'key': 'projects/2202666/photo-original.png',\n",
              " 'little': 'https://ksr-ugc.imgix.net/projects/2202666/photo-original.png?v=1448218961&w=200&h=150&fit=crop&auto=format&q=92&s=1fcc2e9c56d1ce047922600e387d2bd6',\n",
              " 'med': 'https://ksr-ugc.imgix.net/projects/2202666/photo-original.png?v=1448218961&w=266&h=200&fit=crop&auto=format&q=92&s=b290e0e1c3a580e48f31d68081d6c337',\n",
              " 'small': 'https://ksr-ugc.imgix.net/projects/2202666/photo-original.png?v=1448218961&w=160&h=120&fit=crop&auto=format&q=92&s=8c931cad10d4af6de781655e885de36f',\n",
              " 'thumb': 'https://ksr-ugc.imgix.net/projects/2202666/photo-original.png?v=1448218961&w=40&h=30&fit=crop&auto=format&q=92&s=5de396c7a73030fed71da164f089afdf'}"
            ]
          },
          "metadata": {
            "tags": []
          },
          "execution_count": 12
        }
      ]
    },
    {
      "cell_type": "markdown",
      "metadata": {
        "id": "5Ka9pOmjoUI9",
        "colab_type": "text"
      },
      "source": [
        "Similar to the 'creator' information, photo and image analysis might be interesting and useful.  However, these currently lie outside the scope of this experiment."
      ]
    },
    {
      "cell_type": "code",
      "metadata": {
        "id": "Jl8ZrH2HoUI-",
        "colab_type": "code",
        "outputId": "d2cf5629-1ff9-4bf5-e56a-d388b70426ad",
        "colab": {
          "base_uri": "https://localhost:8080/",
          "height": 343
        }
      },
      "source": [
        "json.loads(df['profile'][3])"
      ],
      "execution_count": 0,
      "outputs": [
        {
          "output_type": "execute_result",
          "data": {
            "text/plain": [
              "{'background_color': '',\n",
              " 'background_image_opacity': 0.8,\n",
              " 'blurb': 'Every spinning top — is built on the same belief:   That, above all,  a top must be absolutely simple, elegant and built forever.',\n",
              " 'feature_image_attributes': {'id': 5223993,\n",
              "  'image_urls': {'baseball_card': 'https://ksr-ugc.imgix.net/assets/005/223/993/ecb7b87297b5a6904b0aa291165f764e_original.png?v=1453348914&w=700&fit=max&auto=format&q=92&s=0349acee80e7831ab6aeb88485429ef6',\n",
              "   'default': 'https://ksr-ugc.imgix.net/assets/005/223/993/ecb7b87297b5a6904b0aa291165f764e_original.png?v=1453348914&w=700&fit=max&auto=format&q=92&s=0349acee80e7831ab6aeb88485429ef6'}},\n",
              " 'id': 2242240,\n",
              " 'link_background_color': 'e68484',\n",
              " 'link_text': 'Pledge on Indiegogo',\n",
              " 'link_text_color': '',\n",
              " 'link_url': 'http://igg.me/at/foreverspin2016',\n",
              " 'name': 'ForeverSpin™ -  World Famous Spinning Tops',\n",
              " 'project_id': 2242240,\n",
              " 'should_show_feature_image': True,\n",
              " 'show_feature_image': True,\n",
              " 'state': 'active',\n",
              " 'state_changed_at': 1453349046,\n",
              " 'text_color': ''}"
            ]
          },
          "metadata": {
            "tags": []
          },
          "execution_count": 13
        }
      ]
    },
    {
      "cell_type": "markdown",
      "metadata": {
        "id": "uWUa9KVWoUJA",
        "colab_type": "text"
      },
      "source": [
        "Contains redundant data.  "
      ]
    },
    {
      "cell_type": "code",
      "metadata": {
        "scrolled": true,
        "id": "3eB-kk8yoUJA",
        "colab_type": "code",
        "outputId": "6b1aea30-973e-4e6a-99de-b4ea287191e4",
        "colab": {
          "base_uri": "https://localhost:8080/",
          "height": 51
        }
      },
      "source": [
        "json.loads(df['urls'][3])"
      ],
      "execution_count": 0,
      "outputs": [
        {
          "output_type": "execute_result",
          "data": {
            "text/plain": [
              "{'web': {'project': 'https://www.kickstarter.com/projects/1251371853/foreverspintm-world-famous-spinning-tops?ref=category',\n",
              "  'rewards': 'https://www.kickstarter.com/projects/1251371853/foreverspintm-world-famous-spinning-tops/rewards'}}"
            ]
          },
          "metadata": {
            "tags": []
          },
          "execution_count": 14
        }
      ]
    },
    {
      "cell_type": "markdown",
      "metadata": {
        "id": "YHQs8z9FoUJC",
        "colab_type": "text"
      },
      "source": [
        "Web address data is historical in nature, but is not viewable.  No useful information is able to be extracted. "
      ]
    },
    {
      "cell_type": "markdown",
      "metadata": {
        "id": "xSyIDTY0oUJC",
        "colab_type": "text"
      },
      "source": [
        "### Dates\n",
        "\n"
      ]
    },
    {
      "cell_type": "code",
      "metadata": {
        "id": "mYhmyCzJoUJD",
        "colab_type": "code",
        "colab": {}
      },
      "source": [
        "# Convert unix timestamps to dates\n",
        "date_columns = ['created_at', 'deadline', 'launched_at', 'state_changed_at']\n",
        "\n",
        "for column in date_columns: \n",
        "    convert_to_datetime(df, column)"
      ],
      "execution_count": 0,
      "outputs": []
    },
    {
      "cell_type": "code",
      "metadata": {
        "scrolled": true,
        "id": "wqMYX8tdoUJF",
        "colab_type": "code",
        "outputId": "8b53231b-fd07-4d22-949d-cbfa2911d4f1",
        "colab": {
          "base_uri": "https://localhost:8080/",
          "height": 235
        }
      },
      "source": [
        "df[['created_at', 'launched_at', 'deadline']].describe()"
      ],
      "execution_count": 0,
      "outputs": [
        {
          "output_type": "execute_result",
          "data": {
            "text/html": [
              "<div>\n",
              "<style scoped>\n",
              "    .dataframe tbody tr th:only-of-type {\n",
              "        vertical-align: middle;\n",
              "    }\n",
              "\n",
              "    .dataframe tbody tr th {\n",
              "        vertical-align: top;\n",
              "    }\n",
              "\n",
              "    .dataframe thead th {\n",
              "        text-align: right;\n",
              "    }\n",
              "</style>\n",
              "<table border=\"1\" class=\"dataframe\">\n",
              "  <thead>\n",
              "    <tr style=\"text-align: right;\">\n",
              "      <th></th>\n",
              "      <th>created_at</th>\n",
              "      <th>launched_at</th>\n",
              "      <th>deadline</th>\n",
              "    </tr>\n",
              "  </thead>\n",
              "  <tbody>\n",
              "    <tr>\n",
              "      <th>count</th>\n",
              "      <td>338209</td>\n",
              "      <td>338209</td>\n",
              "      <td>338209</td>\n",
              "    </tr>\n",
              "    <tr>\n",
              "      <th>unique</th>\n",
              "      <td>337947</td>\n",
              "      <td>337780</td>\n",
              "      <td>311838</td>\n",
              "    </tr>\n",
              "    <tr>\n",
              "      <th>top</th>\n",
              "      <td>2015-01-20 21:14:16</td>\n",
              "      <td>2018-02-01 22:34:51</td>\n",
              "      <td>2018-07-04 03:59:00</td>\n",
              "    </tr>\n",
              "    <tr>\n",
              "      <th>freq</th>\n",
              "      <td>2</td>\n",
              "      <td>3</td>\n",
              "      <td>55</td>\n",
              "    </tr>\n",
              "    <tr>\n",
              "      <th>first</th>\n",
              "      <td>2009-04-21 17:35:35</td>\n",
              "      <td>2009-04-24 19:52:03</td>\n",
              "      <td>2009-05-03 06:59:59</td>\n",
              "    </tr>\n",
              "    <tr>\n",
              "      <th>last</th>\n",
              "      <td>2019-10-16 22:53:47</td>\n",
              "      <td>2019-10-17 05:25:04</td>\n",
              "      <td>2019-12-16 06:25:04</td>\n",
              "    </tr>\n",
              "  </tbody>\n",
              "</table>\n",
              "</div>"
            ],
            "text/plain": [
              "                 created_at          launched_at             deadline\n",
              "count                338209               338209               338209\n",
              "unique               337947               337780               311838\n",
              "top     2015-01-20 21:14:16  2018-02-01 22:34:51  2018-07-04 03:59:00\n",
              "freq                      2                    3                   55\n",
              "first   2009-04-21 17:35:35  2009-04-24 19:52:03  2009-05-03 06:59:59\n",
              "last    2019-10-16 22:53:47  2019-10-17 05:25:04  2019-12-16 06:25:04"
            ]
          },
          "metadata": {
            "tags": []
          },
          "execution_count": 16
        }
      ]
    },
    {
      "cell_type": "markdown",
      "metadata": {
        "id": "6OdfMokPoUJG",
        "colab_type": "text"
      },
      "source": [
        "### Potential Target/Target related data\n"
      ]
    },
    {
      "cell_type": "code",
      "metadata": {
        "id": "chQloEgYoUJH",
        "colab_type": "code",
        "outputId": "ccde8280-59d0-4453-a88c-0fd93ef0f8ff",
        "colab": {
          "base_uri": "https://localhost:8080/",
          "height": 297
        }
      },
      "source": [
        "# Description of specified data\n",
        "df[['state', 'goal', 'pledged', 'usd_pledged', 'converted_pledged_amount']].describe()"
      ],
      "execution_count": 0,
      "outputs": [
        {
          "output_type": "execute_result",
          "data": {
            "text/html": [
              "<div>\n",
              "<style scoped>\n",
              "    .dataframe tbody tr th:only-of-type {\n",
              "        vertical-align: middle;\n",
              "    }\n",
              "\n",
              "    .dataframe tbody tr th {\n",
              "        vertical-align: top;\n",
              "    }\n",
              "\n",
              "    .dataframe thead th {\n",
              "        text-align: right;\n",
              "    }\n",
              "</style>\n",
              "<table border=\"1\" class=\"dataframe\">\n",
              "  <thead>\n",
              "    <tr style=\"text-align: right;\">\n",
              "      <th></th>\n",
              "      <th>goal</th>\n",
              "      <th>pledged</th>\n",
              "      <th>usd_pledged</th>\n",
              "      <th>converted_pledged_amount</th>\n",
              "    </tr>\n",
              "  </thead>\n",
              "  <tbody>\n",
              "    <tr>\n",
              "      <th>count</th>\n",
              "      <td>3.382090e+05</td>\n",
              "      <td>3.382090e+05</td>\n",
              "      <td>3.382090e+05</td>\n",
              "      <td>2.783860e+05</td>\n",
              "    </tr>\n",
              "    <tr>\n",
              "      <th>mean</th>\n",
              "      <td>4.639210e+04</td>\n",
              "      <td>1.584884e+04</td>\n",
              "      <td>1.224693e+04</td>\n",
              "      <td>1.242938e+04</td>\n",
              "    </tr>\n",
              "    <tr>\n",
              "      <th>std</th>\n",
              "      <td>1.083817e+06</td>\n",
              "      <td>2.928815e+05</td>\n",
              "      <td>1.090064e+05</td>\n",
              "      <td>9.494720e+04</td>\n",
              "    </tr>\n",
              "    <tr>\n",
              "      <th>min</th>\n",
              "      <td>1.000000e-02</td>\n",
              "      <td>0.000000e+00</td>\n",
              "      <td>0.000000e+00</td>\n",
              "      <td>0.000000e+00</td>\n",
              "    </tr>\n",
              "    <tr>\n",
              "      <th>25%</th>\n",
              "      <td>2.000000e+03</td>\n",
              "      <td>6.000000e+01</td>\n",
              "      <td>5.711489e+01</td>\n",
              "      <td>8.100000e+01</td>\n",
              "    </tr>\n",
              "    <tr>\n",
              "      <th>50%</th>\n",
              "      <td>5.000000e+03</td>\n",
              "      <td>1.033750e+03</td>\n",
              "      <td>1.014682e+03</td>\n",
              "      <td>1.259000e+03</td>\n",
              "    </tr>\n",
              "    <tr>\n",
              "      <th>75%</th>\n",
              "      <td>1.500000e+04</td>\n",
              "      <td>5.555990e+03</td>\n",
              "      <td>5.385000e+03</td>\n",
              "      <td>5.909000e+03</td>\n",
              "    </tr>\n",
              "    <tr>\n",
              "      <th>max</th>\n",
              "      <td>1.000000e+08</td>\n",
              "      <td>9.886382e+07</td>\n",
              "      <td>2.033899e+07</td>\n",
              "      <td>1.214344e+07</td>\n",
              "    </tr>\n",
              "  </tbody>\n",
              "</table>\n",
              "</div>"
            ],
            "text/plain": [
              "               goal       pledged   usd_pledged  converted_pledged_amount\n",
              "count  3.382090e+05  3.382090e+05  3.382090e+05              2.783860e+05\n",
              "mean   4.639210e+04  1.584884e+04  1.224693e+04              1.242938e+04\n",
              "std    1.083817e+06  2.928815e+05  1.090064e+05              9.494720e+04\n",
              "min    1.000000e-02  0.000000e+00  0.000000e+00              0.000000e+00\n",
              "25%    2.000000e+03  6.000000e+01  5.711489e+01              8.100000e+01\n",
              "50%    5.000000e+03  1.033750e+03  1.014682e+03              1.259000e+03\n",
              "75%    1.500000e+04  5.555990e+03  5.385000e+03              5.909000e+03\n",
              "max    1.000000e+08  9.886382e+07  2.033899e+07              1.214344e+07"
            ]
          },
          "metadata": {
            "tags": []
          },
          "execution_count": 17
        }
      ]
    },
    {
      "cell_type": "code",
      "metadata": {
        "id": "mQzC3euRoUJJ",
        "colab_type": "code",
        "outputId": "0481db5f-a0e0-46ad-b38e-52c7e5fe3ed0",
        "colab": {
          "base_uri": "https://localhost:8080/",
          "height": 204
        }
      },
      "source": [
        "# 'state' is an object; likley categorical\n",
        "print(df['state'].value_counts())\n",
        "df['state'].describe()"
      ],
      "execution_count": 0,
      "outputs": [
        {
          "output_type": "stream",
          "text": [
            "successful    152698\n",
            "failed        132326\n",
            "live           35060\n",
            "canceled       17056\n",
            "suspended       1069\n",
            "Name: state, dtype: int64\n"
          ],
          "name": "stdout"
        },
        {
          "output_type": "execute_result",
          "data": {
            "text/plain": [
              "count         338209\n",
              "unique             5\n",
              "top       successful\n",
              "freq          152698\n",
              "Name: state, dtype: object"
            ]
          },
          "metadata": {
            "tags": []
          },
          "execution_count": 18
        }
      ]
    },
    {
      "cell_type": "markdown",
      "metadata": {
        "id": "vUHo1urroUJM",
        "colab_type": "text"
      },
      "source": [
        "A point of interest is that successful campaigns outnumber failed campaigns.  Another point to consider, however, is that canceled and suspended campaigns might be viewed failed, but more information regarding definitions of categories might be needed before making a final determination.  \n",
        "\n",
        "Additionally, a numer of live campaigns may have very interesting data as well.  This information may help establish a strategy.  If data will be treated as a time series, live campaigns could be considered for separation as a test set.  However, the ability to evaluate live campaigns final outcomes would be difficult.\n",
        "\n",
        "Values of 'goal', 'pledged', 'usd_pledged', and 'converted_pledged_amount' show that values vary over a wide range and, given standard deviations larger than the mean, are likely to present very skewed distributions with long right tails.  Another important note is consideration of the units used in the columns.  The 'pledged' column appears to have two transformations.  The existence of currency features indicates the units are not the same and must be standardized.  \n",
        "\n",
        "At this time, further cleaning is not necessary.  None of the columns are missing data.  Each will be evaluated further during EDA and Feature Engineering steps."
      ]
    },
    {
      "cell_type": "markdown",
      "metadata": {
        "id": "46pxQAjToUJM",
        "colab_type": "text"
      },
      "source": [
        "### Currency Information"
      ]
    },
    {
      "cell_type": "code",
      "metadata": {
        "scrolled": false,
        "id": "da3tZXwLoUJN",
        "colab_type": "code",
        "outputId": "2b7ee671-0f66-433e-e56d-b156f4f3af79",
        "colab": {
          "base_uri": "https://localhost:8080/",
          "height": 297
        }
      },
      "source": [
        "df[['currency', 'currency_symbol', 'currency_trailing_code', \n",
        "    'current_currency', 'static_usd_rate', 'fx_rate']].describe()"
      ],
      "execution_count": 0,
      "outputs": [
        {
          "output_type": "execute_result",
          "data": {
            "text/html": [
              "<div>\n",
              "<style scoped>\n",
              "    .dataframe tbody tr th:only-of-type {\n",
              "        vertical-align: middle;\n",
              "    }\n",
              "\n",
              "    .dataframe tbody tr th {\n",
              "        vertical-align: top;\n",
              "    }\n",
              "\n",
              "    .dataframe thead th {\n",
              "        text-align: right;\n",
              "    }\n",
              "</style>\n",
              "<table border=\"1\" class=\"dataframe\">\n",
              "  <thead>\n",
              "    <tr style=\"text-align: right;\">\n",
              "      <th></th>\n",
              "      <th>static_usd_rate</th>\n",
              "      <th>fx_rate</th>\n",
              "    </tr>\n",
              "  </thead>\n",
              "  <tbody>\n",
              "    <tr>\n",
              "      <th>count</th>\n",
              "      <td>338209.000000</td>\n",
              "      <td>276499.000000</td>\n",
              "    </tr>\n",
              "    <tr>\n",
              "      <th>mean</th>\n",
              "      <td>1.009954</td>\n",
              "      <td>1.012364</td>\n",
              "    </tr>\n",
              "    <tr>\n",
              "      <th>std</th>\n",
              "      <td>0.220080</td>\n",
              "      <td>1.547712</td>\n",
              "    </tr>\n",
              "    <tr>\n",
              "      <th>min</th>\n",
              "      <td>0.008771</td>\n",
              "      <td>0.007127</td>\n",
              "    </tr>\n",
              "    <tr>\n",
              "      <th>25%</th>\n",
              "      <td>1.000000</td>\n",
              "      <td>1.000000</td>\n",
              "    </tr>\n",
              "    <tr>\n",
              "      <th>50%</th>\n",
              "      <td>1.000000</td>\n",
              "      <td>1.000000</td>\n",
              "    </tr>\n",
              "    <tr>\n",
              "      <th>75%</th>\n",
              "      <td>1.000000</td>\n",
              "      <td>1.000000</td>\n",
              "    </tr>\n",
              "    <tr>\n",
              "      <th>max</th>\n",
              "      <td>1.716408</td>\n",
              "      <td>149.438696</td>\n",
              "    </tr>\n",
              "  </tbody>\n",
              "</table>\n",
              "</div>"
            ],
            "text/plain": [
              "       static_usd_rate        fx_rate\n",
              "count    338209.000000  276499.000000\n",
              "mean          1.009954       1.012364\n",
              "std           0.220080       1.547712\n",
              "min           0.008771       0.007127\n",
              "25%           1.000000       1.000000\n",
              "50%           1.000000       1.000000\n",
              "75%           1.000000       1.000000\n",
              "max           1.716408     149.438696"
            ]
          },
          "metadata": {
            "tags": []
          },
          "execution_count": 19
        }
      ]
    },
    {
      "cell_type": "code",
      "metadata": {
        "scrolled": true,
        "id": "1SwWS8zyoUJQ",
        "colab_type": "code",
        "outputId": "59eaf601-eb41-4db9-8a98-d6dc6a46e426",
        "colab": {
          "base_uri": "https://localhost:8080/",
          "height": 884
        }
      },
      "source": [
        "df['static_usd_rate'][100000:100025], df['fx_rate'][100000:100025]"
      ],
      "execution_count": 0,
      "outputs": [
        {
          "output_type": "execute_result",
          "data": {
            "text/plain": [
              "(100000    1.000000\n",
              " 100001    1.000000\n",
              " 100002    1.000000\n",
              " 100003    1.000000\n",
              " 100004    1.000000\n",
              " 100005    1.000000\n",
              " 100006    1.000000\n",
              " 100007    1.000000\n",
              " 100008    1.087572\n",
              " 100009    1.000000\n",
              " 100010    1.000000\n",
              " 100011    1.000000\n",
              " 100012    1.000000\n",
              " 100013    1.000000\n",
              " 100014    1.000000\n",
              " 100015    1.000000\n",
              " 100016    1.000000\n",
              " 100017    1.126563\n",
              " 100018    1.000000\n",
              " 100019    1.000000\n",
              " 100020    1.000000\n",
              " 100021    1.000000\n",
              " 100022    1.000000\n",
              " 100023    1.000000\n",
              " 100024    1.000000\n",
              " Name: static_usd_rate, dtype: float64, 100000    1.000000\n",
              " 100001    1.000000\n",
              " 100002    1.000000\n",
              " 100003    1.000000\n",
              " 100004    1.000000\n",
              " 100005    1.000000\n",
              " 100006    1.000000\n",
              " 100007    1.000000\n",
              " 100008    1.132671\n",
              " 100009    1.000000\n",
              " 100010    1.000000\n",
              " 100011    1.000000\n",
              " 100012    1.000000\n",
              " 100013    1.000000\n",
              " 100014    1.000000\n",
              " 100015    1.000000\n",
              " 100016    1.000000\n",
              " 100017    1.136508\n",
              " 100018    1.000000\n",
              " 100019    1.000000\n",
              " 100020    1.000000\n",
              " 100021    1.000000\n",
              " 100022    1.000000\n",
              " 100023    1.000000\n",
              " 100024    1.000000\n",
              " Name: fx_rate, dtype: float64)"
            ]
          },
          "metadata": {
            "tags": []
          },
          "execution_count": 20
        }
      ]
    },
    {
      "cell_type": "code",
      "metadata": {
        "scrolled": false,
        "id": "wAz0LVoJoUJR",
        "colab_type": "code",
        "outputId": "80a2eb9c-59d3-46c9-84e8-ff71b9c94fcd",
        "colab": {
          "base_uri": "https://localhost:8080/",
          "height": 173
        }
      },
      "source": [
        "df[['currency', 'currency_symbol', 'currency_trailing_code', \n",
        "    'current_currency']].describe()"
      ],
      "execution_count": 0,
      "outputs": [
        {
          "output_type": "execute_result",
          "data": {
            "text/html": [
              "<div>\n",
              "<style scoped>\n",
              "    .dataframe tbody tr th:only-of-type {\n",
              "        vertical-align: middle;\n",
              "    }\n",
              "\n",
              "    .dataframe tbody tr th {\n",
              "        vertical-align: top;\n",
              "    }\n",
              "\n",
              "    .dataframe thead th {\n",
              "        text-align: right;\n",
              "    }\n",
              "</style>\n",
              "<table border=\"1\" class=\"dataframe\">\n",
              "  <thead>\n",
              "    <tr style=\"text-align: right;\">\n",
              "      <th></th>\n",
              "      <th>currency</th>\n",
              "      <th>currency_symbol</th>\n",
              "      <th>currency_trailing_code</th>\n",
              "      <th>current_currency</th>\n",
              "    </tr>\n",
              "  </thead>\n",
              "  <tbody>\n",
              "    <tr>\n",
              "      <th>count</th>\n",
              "      <td>338209</td>\n",
              "      <td>338209</td>\n",
              "      <td>338209</td>\n",
              "      <td>278386</td>\n",
              "    </tr>\n",
              "    <tr>\n",
              "      <th>unique</th>\n",
              "      <td>14</td>\n",
              "      <td>6</td>\n",
              "      <td>2</td>\n",
              "      <td>11</td>\n",
              "    </tr>\n",
              "    <tr>\n",
              "      <th>top</th>\n",
              "      <td>USD</td>\n",
              "      <td>$</td>\n",
              "      <td>True</td>\n",
              "      <td>USD</td>\n",
              "    </tr>\n",
              "    <tr>\n",
              "      <th>freq</th>\n",
              "      <td>248070</td>\n",
              "      <td>277851</td>\n",
              "      <td>281948</td>\n",
              "      <td>276865</td>\n",
              "    </tr>\n",
              "  </tbody>\n",
              "</table>\n",
              "</div>"
            ],
            "text/plain": [
              "       currency currency_symbol currency_trailing_code current_currency\n",
              "count    338209          338209                 338209           278386\n",
              "unique       14               6                      2               11\n",
              "top         USD               $                   True              USD\n",
              "freq     248070          277851                 281948           276865"
            ]
          },
          "metadata": {
            "tags": []
          },
          "execution_count": 21
        }
      ]
    },
    {
      "cell_type": "code",
      "metadata": {
        "id": "B7z63YEloUJT",
        "colab_type": "code",
        "outputId": "57763b11-5cd9-4b6d-eeb3-d22a3d97612b",
        "colab": {
          "base_uri": "https://localhost:8080/",
          "height": 272
        }
      },
      "source": [
        "df['currency'].value_counts()"
      ],
      "execution_count": 0,
      "outputs": [
        {
          "output_type": "execute_result",
          "data": {
            "text/plain": [
              "USD    248070\n",
              "GBP     33278\n",
              "EUR     21519\n",
              "CAD     14598\n",
              "AUD      7680\n",
              "MXN      3367\n",
              "SEK      2065\n",
              "HKD      1586\n",
              "NZD      1443\n",
              "DKK      1276\n",
              "SGD      1107\n",
              "CHF       986\n",
              "NOK       756\n",
              "JPY       478\n",
              "Name: currency, dtype: int64"
            ]
          },
          "metadata": {
            "tags": []
          },
          "execution_count": 22
        }
      ]
    },
    {
      "cell_type": "markdown",
      "metadata": {
        "id": "cGUthB6DoUJU",
        "colab_type": "text"
      },
      "source": [
        "The 'static_usd_rate' column appears the be a conversion rate of currency types to the US dollar.  As it is missing no values, this is a very useful feature for standaridzation of units.  \n",
        "\n",
        "The 'fx_rate' column appears to be a foreign exchange rate.  While this may be useful, the column includes a number of missing values that will need handling.  If standardizing the goal and pledge amounts to the US dollar, this feature may not be necessary.\n",
        "\n",
        "The 'currency', 'currency_symbol', 'currency_trailing_code' and 'current_currency' columns are categorical.  The currency_trailing_code is likely to be disregarded in this experiment.  Of note is the differences in unique categories between 'currency', 'currency_symbol', and 'current_currency'; the expectation would be that the number of unique categories would be equal.\n",
        "\n",
        "Finally, observing that USD is the most numerous (over 80% of all observations), the currency units will be standardized according the the USD.  This will remove location information associated with currency, however, this information is available elsewhere in the data."
      ]
    },
    {
      "cell_type": "markdown",
      "metadata": {
        "id": "VmyYfKi2oUJV",
        "colab_type": "text"
      },
      "source": [
        "## Business Case\n",
        "\n",
        "There are two potential targets to be considered based upon the potential questions to ask:\n",
        "* Will a kickstarter campaign succeed?  (Target is 'state')\n",
        "* Can we predict the potential funds of a kickstarter campaign? (Target is 'goal')\n",
        "\n",
        "In one instance, the question is a classification problem.  In the other, the question is a regression problem.  Which way to go?  \n",
        "\n",
        "<h3><center>Acme Crowd Funder Services</center></h3>\n",
        "\n",
        "Let's imagine that we are a marketing startup with a very specific niche:  Crowdfunding Campaign Design.  \n",
        "\n",
        "Our clients are interested in using crowdfunding to support their projects.  Given their limited capital, organizing a successful campaign is vital to their project; and, perhaps, of vital importance to gaining a competitive edge for their new idea.    \n",
        "\n",
        "If we wish to establish the viability of a Crowdfunding Design niche, and more, ourselves as the Crowdfunding Design leaders, we need to develop a successful track record.  If our fee schedule is commission based, or a combination of expense plus commission, we are further motivated; not only to succeed, but to exceed the minimum success goals.\n",
        "\n",
        "That said, treating this question as a regression problem is most appropriate.  This experiment will attempt to create a model that can predict pledge Kickstarter campaign pledge amounts.  The added benefit of this approach is that the presence of the 'goal' data allows for determining if success will be achieved. "
      ]
    },
    {
      "cell_type": "code",
      "metadata": {
        "scrolled": false,
        "id": "qyANQZXMoUJW",
        "colab_type": "code",
        "outputId": "9b8a14bd-c274-4fa7-9b15-65d18db5aec7",
        "colab": {
          "base_uri": "https://localhost:8080/",
          "height": 297
        }
      },
      "source": [
        "df.describe()"
      ],
      "execution_count": 0,
      "outputs": [
        {
          "output_type": "execute_result",
          "data": {
            "text/html": [
              "<div>\n",
              "<style scoped>\n",
              "    .dataframe tbody tr th:only-of-type {\n",
              "        vertical-align: middle;\n",
              "    }\n",
              "\n",
              "    .dataframe tbody tr th {\n",
              "        vertical-align: top;\n",
              "    }\n",
              "\n",
              "    .dataframe thead th {\n",
              "        text-align: right;\n",
              "    }\n",
              "</style>\n",
              "<table border=\"1\" class=\"dataframe\">\n",
              "  <thead>\n",
              "    <tr style=\"text-align: right;\">\n",
              "      <th></th>\n",
              "      <th>backers_count</th>\n",
              "      <th>converted_pledged_amount</th>\n",
              "      <th>fx_rate</th>\n",
              "      <th>goal</th>\n",
              "      <th>id</th>\n",
              "      <th>pledged</th>\n",
              "      <th>static_usd_rate</th>\n",
              "      <th>usd_pledged</th>\n",
              "    </tr>\n",
              "  </thead>\n",
              "  <tbody>\n",
              "    <tr>\n",
              "      <th>count</th>\n",
              "      <td>338209.000000</td>\n",
              "      <td>2.783860e+05</td>\n",
              "      <td>276499.000000</td>\n",
              "      <td>3.382090e+05</td>\n",
              "      <td>3.382090e+05</td>\n",
              "      <td>3.382090e+05</td>\n",
              "      <td>338209.000000</td>\n",
              "      <td>3.382090e+05</td>\n",
              "    </tr>\n",
              "    <tr>\n",
              "      <th>mean</th>\n",
              "      <td>142.027663</td>\n",
              "      <td>1.242938e+04</td>\n",
              "      <td>1.012364</td>\n",
              "      <td>4.639210e+04</td>\n",
              "      <td>1.074441e+09</td>\n",
              "      <td>1.584884e+04</td>\n",
              "      <td>1.009954</td>\n",
              "      <td>1.224693e+04</td>\n",
              "    </tr>\n",
              "    <tr>\n",
              "      <th>std</th>\n",
              "      <td>1042.564137</td>\n",
              "      <td>9.494720e+04</td>\n",
              "      <td>1.547712</td>\n",
              "      <td>1.083817e+06</td>\n",
              "      <td>6.193089e+08</td>\n",
              "      <td>2.928815e+05</td>\n",
              "      <td>0.220080</td>\n",
              "      <td>1.090064e+05</td>\n",
              "    </tr>\n",
              "    <tr>\n",
              "      <th>min</th>\n",
              "      <td>0.000000</td>\n",
              "      <td>0.000000e+00</td>\n",
              "      <td>0.007127</td>\n",
              "      <td>1.000000e-02</td>\n",
              "      <td>8.624000e+03</td>\n",
              "      <td>0.000000e+00</td>\n",
              "      <td>0.008771</td>\n",
              "      <td>0.000000e+00</td>\n",
              "    </tr>\n",
              "    <tr>\n",
              "      <th>25%</th>\n",
              "      <td>3.000000</td>\n",
              "      <td>8.100000e+01</td>\n",
              "      <td>1.000000</td>\n",
              "      <td>2.000000e+03</td>\n",
              "      <td>5.370275e+08</td>\n",
              "      <td>6.000000e+01</td>\n",
              "      <td>1.000000</td>\n",
              "      <td>5.711489e+01</td>\n",
              "    </tr>\n",
              "    <tr>\n",
              "      <th>50%</th>\n",
              "      <td>19.000000</td>\n",
              "      <td>1.259000e+03</td>\n",
              "      <td>1.000000</td>\n",
              "      <td>5.000000e+03</td>\n",
              "      <td>1.076300e+09</td>\n",
              "      <td>1.033750e+03</td>\n",
              "      <td>1.000000</td>\n",
              "      <td>1.014682e+03</td>\n",
              "    </tr>\n",
              "    <tr>\n",
              "      <th>75%</th>\n",
              "      <td>75.000000</td>\n",
              "      <td>5.909000e+03</td>\n",
              "      <td>1.000000</td>\n",
              "      <td>1.500000e+04</td>\n",
              "      <td>1.609656e+09</td>\n",
              "      <td>5.555990e+03</td>\n",
              "      <td>1.000000</td>\n",
              "      <td>5.385000e+03</td>\n",
              "    </tr>\n",
              "    <tr>\n",
              "      <th>max</th>\n",
              "      <td>219382.000000</td>\n",
              "      <td>1.214344e+07</td>\n",
              "      <td>149.438696</td>\n",
              "      <td>1.000000e+08</td>\n",
              "      <td>2.147476e+09</td>\n",
              "      <td>9.886382e+07</td>\n",
              "      <td>1.716408</td>\n",
              "      <td>2.033899e+07</td>\n",
              "    </tr>\n",
              "  </tbody>\n",
              "</table>\n",
              "</div>"
            ],
            "text/plain": [
              "       backers_count  converted_pledged_amount        fx_rate          goal  \\\n",
              "count  338209.000000              2.783860e+05  276499.000000  3.382090e+05   \n",
              "mean      142.027663              1.242938e+04       1.012364  4.639210e+04   \n",
              "std      1042.564137              9.494720e+04       1.547712  1.083817e+06   \n",
              "min         0.000000              0.000000e+00       0.007127  1.000000e-02   \n",
              "25%         3.000000              8.100000e+01       1.000000  2.000000e+03   \n",
              "50%        19.000000              1.259000e+03       1.000000  5.000000e+03   \n",
              "75%        75.000000              5.909000e+03       1.000000  1.500000e+04   \n",
              "max    219382.000000              1.214344e+07     149.438696  1.000000e+08   \n",
              "\n",
              "                 id       pledged  static_usd_rate   usd_pledged  \n",
              "count  3.382090e+05  3.382090e+05    338209.000000  3.382090e+05  \n",
              "mean   1.074441e+09  1.584884e+04         1.009954  1.224693e+04  \n",
              "std    6.193089e+08  2.928815e+05         0.220080  1.090064e+05  \n",
              "min    8.624000e+03  0.000000e+00         0.008771  0.000000e+00  \n",
              "25%    5.370275e+08  6.000000e+01         1.000000  5.711489e+01  \n",
              "50%    1.076300e+09  1.033750e+03         1.000000  1.014682e+03  \n",
              "75%    1.609656e+09  5.555990e+03         1.000000  5.385000e+03  \n",
              "max    2.147476e+09  9.886382e+07         1.716408  2.033899e+07  "
            ]
          },
          "metadata": {
            "tags": []
          },
          "execution_count": 23
        }
      ]
    },
    {
      "cell_type": "code",
      "metadata": {
        "scrolled": true,
        "id": "uakHSCwhoUJX",
        "colab_type": "code",
        "outputId": "d65c869f-c040-4722-c4ee-a8bd2f904fc9",
        "colab": {
          "base_uri": "https://localhost:8080/",
          "height": 244
        }
      },
      "source": [
        "df.describe(include='O')"
      ],
      "execution_count": 0,
      "outputs": [
        {
          "output_type": "execute_result",
          "data": {
            "text/html": [
              "<div>\n",
              "<style scoped>\n",
              "    .dataframe tbody tr th:only-of-type {\n",
              "        vertical-align: middle;\n",
              "    }\n",
              "\n",
              "    .dataframe tbody tr th {\n",
              "        vertical-align: top;\n",
              "    }\n",
              "\n",
              "    .dataframe thead th {\n",
              "        text-align: right;\n",
              "    }\n",
              "</style>\n",
              "<table border=\"1\" class=\"dataframe\">\n",
              "  <thead>\n",
              "    <tr style=\"text-align: right;\">\n",
              "      <th></th>\n",
              "      <th>blurb</th>\n",
              "      <th>category</th>\n",
              "      <th>country</th>\n",
              "      <th>country_displayable_name</th>\n",
              "      <th>creator</th>\n",
              "      <th>currency</th>\n",
              "      <th>currency_symbol</th>\n",
              "      <th>current_currency</th>\n",
              "      <th>friends</th>\n",
              "      <th>is_backing</th>\n",
              "      <th>is_starrable</th>\n",
              "      <th>is_starred</th>\n",
              "      <th>location</th>\n",
              "      <th>name</th>\n",
              "      <th>permissions</th>\n",
              "      <th>photo</th>\n",
              "      <th>profile</th>\n",
              "      <th>slug</th>\n",
              "      <th>source_url</th>\n",
              "      <th>state</th>\n",
              "      <th>urls</th>\n",
              "      <th>usd_type</th>\n",
              "      <th>parent_category</th>\n",
              "      <th>sub_category</th>\n",
              "    </tr>\n",
              "  </thead>\n",
              "  <tbody>\n",
              "    <tr>\n",
              "      <th>count</th>\n",
              "      <td>338191</td>\n",
              "      <td>338209</td>\n",
              "      <td>338209</td>\n",
              "      <td>179782</td>\n",
              "      <td>338209</td>\n",
              "      <td>338209</td>\n",
              "      <td>338209</td>\n",
              "      <td>278386</td>\n",
              "      <td>1337</td>\n",
              "      <td>1337</td>\n",
              "      <td>289507</td>\n",
              "      <td>1337</td>\n",
              "      <td>337137</td>\n",
              "      <td>338206</td>\n",
              "      <td>1217</td>\n",
              "      <td>338209</td>\n",
              "      <td>338209</td>\n",
              "      <td>338209</td>\n",
              "      <td>321864</td>\n",
              "      <td>338209</td>\n",
              "      <td>338209</td>\n",
              "      <td>276865</td>\n",
              "      <td>338209</td>\n",
              "      <td>338209</td>\n",
              "    </tr>\n",
              "    <tr>\n",
              "      <th>unique</th>\n",
              "      <td>334577</td>\n",
              "      <td>304</td>\n",
              "      <td>22</td>\n",
              "      <td>22</td>\n",
              "      <td>337363</td>\n",
              "      <td>14</td>\n",
              "      <td>6</td>\n",
              "      <td>11</td>\n",
              "      <td>3</td>\n",
              "      <td>2</td>\n",
              "      <td>2</td>\n",
              "      <td>2</td>\n",
              "      <td>62413</td>\n",
              "      <td>336268</td>\n",
              "      <td>1</td>\n",
              "      <td>338191</td>\n",
              "      <td>338209</td>\n",
              "      <td>338209</td>\n",
              "      <td>279</td>\n",
              "      <td>5</td>\n",
              "      <td>338209</td>\n",
              "      <td>2</td>\n",
              "      <td>15</td>\n",
              "      <td>160</td>\n",
              "    </tr>\n",
              "    <tr>\n",
              "      <th>top</th>\n",
              "      <td>Help support the largest creative collaboratio...</td>\n",
              "      <td>{\"id\":34,\"name\":\"Tabletop Games\",\"slug\":\"games...</td>\n",
              "      <td>US</td>\n",
              "      <td>the United States</td>\n",
              "      <td>{\"id\":978911160,\"name\":\"For Freedoms\",\"is_regi...</td>\n",
              "      <td>USD</td>\n",
              "      <td>$</td>\n",
              "      <td>USD</td>\n",
              "      <td>[]</td>\n",
              "      <td>False</td>\n",
              "      <td>False</td>\n",
              "      <td>False</td>\n",
              "      <td>{\"id\":2442047,\"name\":\"Los Angeles\",\"slug\":\"los...</td>\n",
              "      <td>Debut Album</td>\n",
              "      <td>[]</td>\n",
              "      <td>{\"key\":null,\"full\":\"https://ksr-ugc.imgix.net/...</td>\n",
              "      <td>{\"id\":396000,\"project_id\":396000,\"state\":\"inac...</td>\n",
              "      <td>pollocks-first-full-length-album</td>\n",
              "      <td>https://www.kickstarter.com/discover/categorie...</td>\n",
              "      <td>successful</td>\n",
              "      <td>{\"web\":{\"project\":\"https://www.kickstarter.com...</td>\n",
              "      <td>domestic</td>\n",
              "      <td>film &amp; video</td>\n",
              "      <td>product design</td>\n",
              "    </tr>\n",
              "    <tr>\n",
              "      <th>freq</th>\n",
              "      <td>52</td>\n",
              "      <td>10073</td>\n",
              "      <td>248070</td>\n",
              "      <td>126720</td>\n",
              "      <td>12</td>\n",
              "      <td>248070</td>\n",
              "      <td>277851</td>\n",
              "      <td>276865</td>\n",
              "      <td>1335</td>\n",
              "      <td>1333</td>\n",
              "      <td>265886</td>\n",
              "      <td>1328</td>\n",
              "      <td>8057</td>\n",
              "      <td>11</td>\n",
              "      <td>1217</td>\n",
              "      <td>14</td>\n",
              "      <td>1</td>\n",
              "      <td>1</td>\n",
              "      <td>8557</td>\n",
              "      <td>152698</td>\n",
              "      <td>1</td>\n",
              "      <td>191219</td>\n",
              "      <td>46638</td>\n",
              "      <td>18953</td>\n",
              "    </tr>\n",
              "  </tbody>\n",
              "</table>\n",
              "</div>"
            ],
            "text/plain": [
              "                                                    blurb  \\\n",
              "count                                              338191   \n",
              "unique                                             334577   \n",
              "top     Help support the largest creative collaboratio...   \n",
              "freq                                                   52   \n",
              "\n",
              "                                                 category country  \\\n",
              "count                                              338209  338209   \n",
              "unique                                                304      22   \n",
              "top     {\"id\":34,\"name\":\"Tabletop Games\",\"slug\":\"games...      US   \n",
              "freq                                                10073  248070   \n",
              "\n",
              "       country_displayable_name  \\\n",
              "count                    179782   \n",
              "unique                       22   \n",
              "top           the United States   \n",
              "freq                     126720   \n",
              "\n",
              "                                                  creator currency  \\\n",
              "count                                              338209   338209   \n",
              "unique                                             337363       14   \n",
              "top     {\"id\":978911160,\"name\":\"For Freedoms\",\"is_regi...      USD   \n",
              "freq                                                   12   248070   \n",
              "\n",
              "       currency_symbol current_currency friends is_backing is_starrable  \\\n",
              "count           338209           278386    1337       1337       289507   \n",
              "unique               6               11       3          2            2   \n",
              "top                  $              USD      []      False        False   \n",
              "freq            277851           276865    1335       1333       265886   \n",
              "\n",
              "       is_starred                                           location  \\\n",
              "count        1337                                             337137   \n",
              "unique          2                                              62413   \n",
              "top         False  {\"id\":2442047,\"name\":\"Los Angeles\",\"slug\":\"los...   \n",
              "freq         1328                                               8057   \n",
              "\n",
              "               name permissions  \\\n",
              "count        338206        1217   \n",
              "unique       336268           1   \n",
              "top     Debut Album          []   \n",
              "freq             11        1217   \n",
              "\n",
              "                                                    photo  \\\n",
              "count                                              338209   \n",
              "unique                                             338191   \n",
              "top     {\"key\":null,\"full\":\"https://ksr-ugc.imgix.net/...   \n",
              "freq                                                   14   \n",
              "\n",
              "                                                  profile  \\\n",
              "count                                              338209   \n",
              "unique                                             338209   \n",
              "top     {\"id\":396000,\"project_id\":396000,\"state\":\"inac...   \n",
              "freq                                                    1   \n",
              "\n",
              "                                    slug  \\\n",
              "count                             338209   \n",
              "unique                            338209   \n",
              "top     pollocks-first-full-length-album   \n",
              "freq                                   1   \n",
              "\n",
              "                                               source_url       state  \\\n",
              "count                                              321864      338209   \n",
              "unique                                                279           5   \n",
              "top     https://www.kickstarter.com/discover/categorie...  successful   \n",
              "freq                                                 8557      152698   \n",
              "\n",
              "                                                     urls  usd_type  \\\n",
              "count                                              338209    276865   \n",
              "unique                                             338209         2   \n",
              "top     {\"web\":{\"project\":\"https://www.kickstarter.com...  domestic   \n",
              "freq                                                    1    191219   \n",
              "\n",
              "       parent_category    sub_category  \n",
              "count           338209          338209  \n",
              "unique              15             160  \n",
              "top       film & video  product design  \n",
              "freq             46638           18953  "
            ]
          },
          "metadata": {
            "tags": []
          },
          "execution_count": 24
        }
      ]
    },
    {
      "cell_type": "markdown",
      "metadata": {
        "id": "jecI7HDqoUJZ",
        "colab_type": "text"
      },
      "source": [
        "### Handling Missing Data\n",
        "\n",
        "Given the number of null values, it makes sense to address them first.  This may help establish a baseline for evaluating the data per column in the dataset."
      ]
    },
    {
      "cell_type": "code",
      "metadata": {
        "id": "wPez-ih0oUJZ",
        "colab_type": "code",
        "colab": {}
      },
      "source": [
        "# Define nulls and drop any column in exceeding 15% volume of the overall data\n",
        "nulls = df.isnull().sum()\n",
        "null_percent = nulls[nulls>0] / df.shape[0]\n",
        "drop_columns = null_percent[null_percent > 0.15]\n",
        "\n",
        "df = df.drop(columns=drop_columns.index, axis=1)"
      ],
      "execution_count": 0,
      "outputs": []
    },
    {
      "cell_type": "code",
      "metadata": {
        "id": "EUoRs132oUJb",
        "colab_type": "code",
        "outputId": "3f31a9d8-b49d-4087-d4c1-74cba80dac66",
        "colab": {
          "base_uri": "https://localhost:8080/",
          "height": 119
        }
      },
      "source": [
        "# Check remaining nulls\n",
        "nulls = df.isnull().sum()\n",
        "null_percent = nulls[nulls>0] / df.shape[0]\n",
        "\n",
        "null_percent"
      ],
      "execution_count": 0,
      "outputs": [
        {
          "output_type": "execute_result",
          "data": {
            "text/plain": [
              "blurb           0.000053\n",
              "is_starrable    0.144000\n",
              "location        0.003170\n",
              "name            0.000009\n",
              "source_url      0.048328\n",
              "dtype: float64"
            ]
          },
          "metadata": {
            "tags": []
          },
          "execution_count": 26
        }
      ]
    },
    {
      "cell_type": "markdown",
      "metadata": {
        "id": "XTa3Fis8oUJd",
        "colab_type": "text"
      },
      "source": [
        "Before dropping additional columns, let's look at potential relationships between our data and target.  While the 'state' column is not the intended target goal, it establishes a good baseline for potential correlation."
      ]
    },
    {
      "cell_type": "code",
      "metadata": {
        "id": "_Yk9xR1FoUJd",
        "colab_type": "code",
        "outputId": "14ec2d9c-7c40-4dc2-ae36-c6f8d78878f1",
        "colab": {
          "base_uri": "https://localhost:8080/",
          "height": 153
        }
      },
      "source": [
        "cat_columns = ['country', 'sub_category', 'is_starrable', 'parent_category']\n",
        "\n",
        "for column in cat_columns:\n",
        "    cont_table = pd.crosstab(index=df['state'], columns=df[column])\n",
        "    chi2, pval, _, _ = stats.chi2_contingency(cont_table)\n",
        "    print(f'Chi-squared test statistic for {column}: {chi2}')\n",
        "    print(f'p-value: {pval}')"
      ],
      "execution_count": 0,
      "outputs": [
        {
          "output_type": "stream",
          "text": [
            "Chi-squared test statistic for country: 8870.020427373853\n",
            "p-value: 0.0\n",
            "Chi-squared test statistic for sub_category: 163779.8800573402\n",
            "p-value: 0.0\n",
            "Chi-squared test statistic for is_starrable: 268843.5674748833\n",
            "p-value: 0.0\n",
            "Chi-squared test statistic for parent_category: 54462.50614207457\n",
            "p-value: 0.0\n"
          ],
          "name": "stdout"
        }
      ]
    },
    {
      "cell_type": "markdown",
      "metadata": {
        "id": "XwJoCPejoUJf",
        "colab_type": "text"
      },
      "source": [
        "The $\\chi^2$ tests indicate rejection of the null hypothesis that 'state' is independent of the 'country', 'category', 'is_starrable' and 'parent_category' columns.  The column of note, the 'is_starrable' column, will require a bit more exploration to determine how to impute null values.  \n",
        "\n",
        "One explanation for the missing values would be the evolution of the crowdfunding platform.  The 'is_starrable' column may represent an added feature that was previously unavailable and, therefore, unrecorded.  In a strictly literal sense, missing values would indicate either undesignated or metric unavailable and therefore imputing False would be accurate.  \n"
      ]
    },
    {
      "cell_type": "code",
      "metadata": {
        "id": "f7APisvLoUJg",
        "colab_type": "code",
        "outputId": "265f529f-36bb-458c-b63b-478d9bd5b7ba",
        "colab": {
          "base_uri": "https://localhost:8080/",
          "height": 102
        }
      },
      "source": [
        "# Fill missing data with False\n",
        "df['is_starrable'] = df['is_starrable'].fillna(False)\n",
        "\n",
        "# Check remaining nulls\n",
        "nulls = df.isnull().sum()\n",
        "null_percent = nulls[nulls>0] / df.shape[0]\n",
        "\n",
        "null_percent"
      ],
      "execution_count": 0,
      "outputs": [
        {
          "output_type": "execute_result",
          "data": {
            "text/plain": [
              "blurb         0.000053\n",
              "location      0.003170\n",
              "name          0.000009\n",
              "source_url    0.048328\n",
              "dtype: float64"
            ]
          },
          "metadata": {
            "tags": []
          },
          "execution_count": 28
        }
      ]
    },
    {
      "cell_type": "code",
      "metadata": {
        "id": "WvDmXm00oUJi",
        "colab_type": "code",
        "colab": {}
      },
      "source": [
        "# Dropping remaining null values by row will have minimal affect on data loss\n",
        "df = df.dropna()"
      ],
      "execution_count": 0,
      "outputs": []
    },
    {
      "cell_type": "code",
      "metadata": {
        "id": "xdXIzmw4oUJl",
        "colab_type": "code",
        "outputId": "8c2f3787-c765-404b-8d7f-45c3ca62f8bc",
        "colab": {
          "base_uri": "https://localhost:8080/",
          "height": 629
        }
      },
      "source": [
        "df.info()"
      ],
      "execution_count": 0,
      "outputs": [
        {
          "output_type": "stream",
          "text": [
            "<class 'pandas.core.frame.DataFrame'>\n",
            "Int64Index: 320807 entries, 0 to 338208\n",
            "Data columns (total 31 columns):\n",
            "backers_count             320807 non-null int64\n",
            "blurb                     320807 non-null object\n",
            "category                  320807 non-null object\n",
            "country                   320807 non-null object\n",
            "created_at                320807 non-null datetime64[ns]\n",
            "creator                   320807 non-null object\n",
            "currency                  320807 non-null object\n",
            "currency_symbol           320807 non-null object\n",
            "currency_trailing_code    320807 non-null bool\n",
            "deadline                  320807 non-null datetime64[ns]\n",
            "disable_communication     320807 non-null bool\n",
            "goal                      320807 non-null float64\n",
            "id                        320807 non-null int64\n",
            "is_starrable              320807 non-null bool\n",
            "launched_at               320807 non-null datetime64[ns]\n",
            "location                  320807 non-null object\n",
            "name                      320807 non-null object\n",
            "photo                     320807 non-null object\n",
            "pledged                   320807 non-null float64\n",
            "profile                   320807 non-null object\n",
            "slug                      320807 non-null object\n",
            "source_url                320807 non-null object\n",
            "spotlight                 320807 non-null bool\n",
            "staff_pick                320807 non-null bool\n",
            "state                     320807 non-null object\n",
            "state_changed_at          320807 non-null datetime64[ns]\n",
            "static_usd_rate           320807 non-null float64\n",
            "urls                      320807 non-null object\n",
            "usd_pledged               320807 non-null float64\n",
            "parent_category           320807 non-null object\n",
            "sub_category              320807 non-null object\n",
            "dtypes: bool(5), datetime64[ns](4), float64(4), int64(2), object(16)\n",
            "memory usage: 67.6+ MB\n"
          ],
          "name": "stdout"
        }
      ]
    },
    {
      "cell_type": "code",
      "metadata": {
        "scrolled": false,
        "id": "d3QQNQ3uoUJo",
        "colab_type": "code",
        "outputId": "07e18fd7-03fc-43f9-fe28-a06adc209b70",
        "colab": {
          "base_uri": "https://localhost:8080/",
          "height": 1000
        }
      },
      "source": [
        "gr_cols = ['goal', 'pledged', 'usd_pledged']\n",
        "\n",
        "for col in gr_cols:\n",
        "    plt.figure(figsize=(12,8))\n",
        "    sns.distplot(df[col])\n",
        "    plt.title(f'Distribution of {col}')\n",
        "    plt.xlabel(f'range of {col}')\n",
        "    plt.ylabel('concentration of values')\n",
        "    plt.show()\n"
      ],
      "execution_count": 0,
      "outputs": [
        {
          "output_type": "display_data",
          "data": {
            "image/png": "[encoded data removed]",
            "text/plain": [
              "<Figure size 864x576 with 1 Axes>"
            ]
          },
          "metadata": {
            "tags": []
          }
        },
        {
          "output_type": "display_data",
          "data": {
            "image/png": "[encoded data removed]",
            "text/plain": [
              "<Figure size 864x576 with 1 Axes>"
            ]
          },
          "metadata": {
            "tags": []
          }
        },
        {
          "output_type": "display_data",
          "data": {
            "image/png": "[encoded data removed]",
            "text/plain": [
              "<Figure size 864x576 with 1 Axes>"
            ]
          },
          "metadata": {
            "tags": []
          }
        }
      ]
    },
    {
      "cell_type": "markdown",
      "metadata": {
        "id": "rMk2giU9oUJq",
        "colab_type": "text"
      },
      "source": [
        "Each plot shows extreme outlier data causing high amount of skew and kurtosis.  Given the extremeness of outlier data and a high concentration of data near zero, normalization may prove difficult.  Neither Acme Crowd Funder Services nor their clients are interested in campaigns generating zero dollars pledged.  It may make sense to remove observations of zero dollars pledged.  "
      ]
    },
    {
      "cell_type": "code",
      "metadata": {
        "id": "_gmPbHtVQipm",
        "colab_type": "code",
        "colab": {}
      },
      "source": [
        "# create column with all goals converted to usd\n",
        "df['usd_goal'] = df['goal'] * df['static_usd_rate']"
      ],
      "execution_count": 0,
      "outputs": []
    },
    {
      "cell_type": "code",
      "metadata": {
        "id": "gHgAlO40oUJr",
        "colab_type": "code",
        "outputId": "17126cf4-f9b0-4bc7-9e23-91e7d22460c4",
        "colab": {
          "base_uri": "https://localhost:8080/",
          "height": 518
        }
      },
      "source": [
        "plg = df['usd_pledged'][(df['usd_pledged']!=0)]\n",
        "\n",
        "plt.figure(figsize=(12,8))\n",
        "sns.distplot(np.log1p(plg))\n",
        "plt.title('Distribution of log of usd_pledged ratio')\n",
        "plt.xlabel('range of log of usd_pledged')\n",
        "plt.ylabel('concentration of values')\n",
        "\n",
        "plt.show()"
      ],
      "execution_count": 0,
      "outputs": [
        {
          "output_type": "display_data",
          "data": {
            "image/png": "[encoded data removed]",
            "text/plain": [
              "<Figure size 864x576 with 1 Axes>"
            ]
          },
          "metadata": {
            "tags": []
          }
        }
      ]
    },
    {
      "cell_type": "markdown",
      "metadata": {
        "id": "SAkcQjgloUJs",
        "colab_type": "text"
      },
      "source": [
        "While not perfect, this distribution does approach normal and will be useful.  Before dropping data, however, additional analysis will be performed."
      ]
    },
    {
      "cell_type": "code",
      "metadata": {
        "scrolled": true,
        "id": "F8K_Wnj3oUJt",
        "colab_type": "code",
        "outputId": "1a33d413-0eba-422f-cf8f-0ba783c0fc34",
        "colab": {
          "base_uri": "https://localhost:8080/",
          "height": 221
        }
      },
      "source": [
        "# Look at features correlated with the target \n",
        "corr_w_target = (abs(df.corr()))['usd_pledged'].sort_values(ascending = False)[1:]\n",
        "corr_w_target"
      ],
      "execution_count": 0,
      "outputs": [
        {
          "output_type": "execute_result",
          "data": {
            "text/plain": [
              "backers_count             0.753669\n",
              "pledged                   0.386311\n",
              "staff_pick                0.130384\n",
              "spotlight                 0.104765\n",
              "is_starrable              0.020301\n",
              "currency_trailing_code    0.008914\n",
              "goal                      0.008832\n",
              "usd_goal                  0.006988\n",
              "disable_communication     0.003267\n",
              "id                        0.001234\n",
              "static_usd_rate           0.000844\n",
              "Name: usd_pledged, dtype: float64"
            ]
          },
          "metadata": {
            "tags": []
          },
          "execution_count": 34
        }
      ]
    },
    {
      "cell_type": "markdown",
      "metadata": {
        "id": "02AjCXBEoUJv",
        "colab_type": "text"
      },
      "source": [
        "Interestingly, the 'backers_count' feature is more positively correlated with the target than the pre-transformed target.  The 'pledged' cannot be used because it is the pre-transformed target value and will overly bias the model.  The 'backers_count' and 'goal' columns are numeric that are positively correlated with the target.  Another positively correlated feature that might be interesting is the 'static_usd_rate'.  Given fluxuations of the value of the dollar, this feature may establish potential economic influence impacting crowd funding.  Other features seen as correlated are either categorical, boolean, or marked for removal.  \n",
        "\n"
      ]
    },
    {
      "cell_type": "code",
      "metadata": {
        "scrolled": false,
        "id": "9rrQEQDBoUJv",
        "colab_type": "code",
        "outputId": "35f7c4c1-4c0e-4fc5-bcdf-c0a7bd815d7e",
        "colab": {
          "base_uri": "https://localhost:8080/",
          "height": 1000
        }
      },
      "source": [
        "# Temporarily remove zero pledge values \n",
        "goals = df['goal'][df['usd_pledged']>1]\n",
        "pledges = df['usd_pledged'][df['usd_pledged']>1]\n",
        "\n",
        "# Plot data\n",
        "plt.figure(figsize=(20, 16))\n",
        "plt.suptitle('Plots of Goal and Pledge Data')\n",
        "plt.subplot(2,2,1)\n",
        "plt.title('Campaign State by Pledge')\n",
        "sns.boxenplot(df['state'], np.log1p(df['usd_pledged'][df['usd_pledged']!=0]))\n",
        "\n",
        "plt.subplot(2,2,2)\n",
        "plt.title('Relationship of Goal to Pledge')\n",
        "sns.regplot(df['goal'], df['usd_pledged'])\n",
        "\n",
        "plt.subplot(2,2,3)\n",
        "plt.title('Log transform Goal Distribution')\n",
        "sns.distplot(np.log1p(goals))\n",
        "\n",
        "plt.subplot(2,2,4)\n",
        "plt.title('Campaign State by Goal')\n",
        "sns.boxenplot(df['state'], np.log1p(df['goal'][df['usd_pledged']!=0]))\n",
        "\n",
        "plt.show()"
      ],
      "execution_count": 0,
      "outputs": [
        {
          "output_type": "display_data",
          "data": {
            "image/png": "[encoded data removed]",
            "text/plain": [
              "<Figure size 1440x1152 with 4 Axes>"
            ]
          },
          "metadata": {
            "tags": []
          }
        }
      ]
    },
    {
      "cell_type": "markdown",
      "metadata": {
        "id": "vt0Oo6AAoUJx",
        "colab_type": "text"
      },
      "source": [
        "When looking at the boxen plots of campaign states and pledge amounts, it makes sense that successful campaigns have higher averages than failed.  Based on the plot, the pledge amounts for successful campaigns appear well distributed and form a close approximation to normal.  \n",
        "\n",
        "For live and failed campaigns, a negative skew exists, but according to statistical calculations, they could be treated as normal distributions.  Whereas outliers for successful campaigns appear to have a canceling affect on the mean, the average pledge amounts of live and failed campaigns appear to be pulled upward by outliers.  \n",
        "\n",
        "Another interesting insight is that live campaigns are the second highest average pledge amound.  When compared to the boxen plot of campaign goals, live campaigns also have the second highest average goal.  From a chronological perspective, these insights may indicate that, as time goes by, project planning has improved; leading to more ambitious, and potentially attainable, goals.\n",
        "\n",
        "While successful campaigns have the highest average pledge amount, they have the lowest goal amounts.  These averages, however, appear in agreement.  Additionally, outliers for successful campaign goals tend to be lower than goals of other campaign states.  This information may indicate successful campaigns are strategically planned with realistic, attainable goals (good news for Acme Crowd Funder Services).  "
      ]
    },
    {
      "cell_type": "code",
      "metadata": {
        "id": "7n6no0hNoUJx",
        "colab_type": "code",
        "outputId": "abea4dd7-2c6e-4301-b2a1-63b2df6f6483",
        "colab": {
          "base_uri": "https://localhost:8080/",
          "height": 569
        }
      },
      "source": [
        "plt.figure(figsize=(16,8))\n",
        "plt.title('Distribution of Pledge Amounts in different states')\n",
        "sns.distplot(np.log1p(df['usd_pledged'][(df['state']=='successful')]), color='green', label='Successful')\n",
        "sns.distplot(np.log1p(df['usd_pledged'][(df['state']=='failed') & (df['usd_pledged']!=0)]), \n",
        "             color='red', label='Failed')\n",
        "sns.distplot(np.log1p(df['usd_pledged'][(df['state']=='live') & (df['usd_pledged']!=0)]), \n",
        "             color='orange', label='Live')\n",
        "plt.legend()\n",
        "\n",
        "plt.show()\n",
        "\n",
        "print(stats.describe(np.log1p(df['usd_pledged'][(df['state']=='successful')])))\n",
        "print(stats.describe(np.log1p(df['usd_pledged'][(df['state']=='failed') & (df['usd_pledged']!=0)])))\n",
        "print(stats.describe(np.log1p(df['usd_pledged'][(df['state']=='live') & (df['usd_pledged']!=0)])))"
      ],
      "execution_count": 0,
      "outputs": [
        {
          "output_type": "display_data",
          "data": {
            "image/png": "[encoded data removed]",
            "text/plain": [
              "<Figure size 1152x576 with 1 Axes>"
            ]
          },
          "metadata": {
            "tags": []
          }
        },
        {
          "output_type": "stream",
          "text": [
            "DescribeResult(nobs=146236, minmax=(0.6931471805599453, 16.82805015727629), mean=8.580533212810773, variance=2.4919604487212315, skewness=0.16017313686946655, kurtosis=0.821236599352452)\n",
            "DescribeResult(nobs=103108, minmax=(0.3759362580847145, 13.488446370534637), mean=4.971468854503473, variance=5.465586857262396, skewness=-0.05227904535746348, kurtosis=-0.5714235783120221)\n",
            "DescribeResult(nobs=27512, minmax=(0.3860634404169376, 14.71821014726643), mean=5.538851221942933, variance=6.742398528538294, skewness=-0.29260918505229566, kurtosis=-0.5156946478708817)\n"
          ],
          "name": "stdout"
        }
      ]
    },
    {
      "cell_type": "code",
      "metadata": {
        "scrolled": false,
        "id": "wnRG5fj6oUJz",
        "colab_type": "code",
        "outputId": "bcde6961-4559-4d6a-ce94-277ffcbc71a5",
        "colab": {
          "base_uri": "https://localhost:8080/",
          "height": 1000
        }
      },
      "source": [
        "# Temporarily remove zero pledge amounts for plotting\n",
        "backs = df['backers_count'][df['usd_pledged']>1]\n",
        "rates = df['static_usd_rate'][df['usd_pledged']>1]\n",
        "pledges = df['usd_pledged'][df['usd_pledged']>1]\n",
        "\n",
        "# Plot data\n",
        "plt.figure(figsize=(20, 24))\n",
        "plt.subplot(3,2,1)\n",
        "plt.title('Campaign State by Backers Count')\n",
        "sns.boxenplot(df['state'], np.log1p(df['backers_count'][df['usd_pledged']!=0]))\n",
        "\n",
        "plt.subplot(3,2,2)\n",
        "plt.title('Relationship between Backers count and Pledge amount')\n",
        "sns.regplot(df['backers_count'], df['usd_pledged'])\n",
        "\n",
        "plt.subplot(3,2,3)\n",
        "plt.title('Log transformed Backers count')\n",
        "sns.distplot(np.log1p(backs))\n",
        "\n",
        "plt.subplot(3,2,4)\n",
        "plt.title('Campaign state by USD rates')\n",
        "sns.boxenplot(df['state'], np.log1p(df['static_usd_rate'][df['usd_pledged']!=0]))\n",
        "\n",
        "plt.subplot(3,2,5)\n",
        "plt.title('Log transformed USD rates')\n",
        "sns.distplot(df['static_usd_rate'])\n",
        "\n",
        "plt.subplot(3,2,6)\n",
        "plt.title('Relationsip between USD rates and Pledge amount')\n",
        "sns.regplot(df['static_usd_rate'], df['usd_pledged'])\n",
        "\n",
        "plt.show()"
      ],
      "execution_count": 0,
      "outputs": [
        {
          "output_type": "display_data",
          "data": {
            "image/png": "[encoded data removed]",
            "text/plain": [
              "<Figure size 1440x1728 with 6 Axes>"
            ]
          },
          "metadata": {
            "tags": []
          }
        }
      ]
    },
    {
      "cell_type": "markdown",
      "metadata": {
        "id": "2ilAnjjToUJ0",
        "colab_type": "text"
      },
      "source": [
        "An immediate insight:  <strong>Backers are a strong indicator of success.</strong>\n",
        "\n",
        "This seems as though it would be a hindsight statistic, however, information exists within the data that implies that knowledge of potential backers is not necessarily ex post facto.  \n",
        "* 'created_at' - Defines the date the campaign is registered with Kickstarter.  This does not indicate a live campaign, rather it is a delcaration of the intent to launch a campaign.\n",
        "* 'launched_at' - Defines the date the campaign is live and accepting pledges.  \n",
        "\n",
        "Domain research confirms that once a campaign is created, a preview link is provided.  While the campaign is not live, a link to the preview page may be provided to potential backers.  Hence, a reasonable estimation of backers may be attainable.  While developing and executing a marketing strategy may occur before campaign creation, the amount of time between creation and launch is measureable; and may provide useful information."
      ]
    },
    {
      "cell_type": "code",
      "metadata": {
        "scrolled": false,
        "id": "kzbytsrmoUJ1",
        "colab_type": "code",
        "outputId": "6c53a5d2-002a-47bb-adc5-6a6fe99edc33",
        "colab": {
          "base_uri": "https://localhost:8080/",
          "height": 923
        }
      },
      "source": [
        "# Plot a pie chart to demonstrate divisions of campaign states\n",
        "explode = (0, 0, 0, 0.25, 0.25)\n",
        "\n",
        "plt.figure(figsize=(20, 16))\n",
        "plt.title('Division of Campaign States', fontsize=22)\n",
        "plt.pie(df['state'].value_counts(), labels=df['state'].value_counts().index, \n",
        "        explode=explode, startangle=225, shadow=True, autopct='%1.1f%%', \n",
        "        textprops={'fontsize': 20})\n",
        "\n",
        "plt.legend(fontsize=14)\n",
        "plt.show()"
      ],
      "execution_count": 0,
      "outputs": [
        {
          "output_type": "display_data",
          "data": {
            "image/png": "[encoded data removed]",
            "text/plain": [
              "<Figure size 1440x1152 with 1 Axes>"
            ]
          },
          "metadata": {
            "tags": []
          }
        }
      ]
    },
    {
      "cell_type": "markdown",
      "metadata": {
        "id": "Xzg_1kRroUJ3",
        "colab_type": "text"
      },
      "source": [
        "Canceled and suspended campaigns may offer information pertaining to the target data, however, lacking definition and/or causes for cancelation and suspension, information included in these columns could introduce noise and bias into the model.  For this reason, these categories will be disregarded.  \n",
        "\n",
        "Live campaigns, on the other hand, are interesting; especially given earlier insights.  Additionally, the model is targeting plegde dollars instead of success or failure.  This allows for live campaign data to be useful. \n"
      ]
    },
    {
      "cell_type": "markdown",
      "metadata": {
        "id": "mzzzEPnToUJ4",
        "colab_type": "text"
      },
      "source": [
        "## Feature Engineering\n",
        "\n",
        "### Trimming\n",
        "\n",
        "While some noisy features, data, and incomplet obserations have already been removed, analysis indicates others may not be helpful to building a model.  At this point, redundant columns and rows/columns identified as potential noise, or not useful, may be removed."
      ]
    },
    {
      "cell_type": "code",
      "metadata": {
        "id": "yMFECgs3oUJ4",
        "colab_type": "code",
        "colab": {}
      },
      "source": [
        "cols_to_drop = ['creator', 'currency', 'currency_symbol', 'currency_trailing_code', 'disable_communication',\n",
        "                'id', 'location', 'photo', 'pledged', 'profile', 'slug', 'source_url', 'state_changed_at', \n",
        "                'urls', 'category']\n",
        "\n",
        "# Drop columns marked for removal\n",
        "df = df.drop(columns=cols_to_drop, axis=1)\n",
        "\n",
        "# Trim data frame to include only successful, live, and failed campaigns\n",
        "df = df[(df['state']=='failed') | (df['state']=='successful') | (df['state']=='live')]\n",
        "\n",
        "# Trim data frame to include only 'usd_pledged' amounts greater than zero\n",
        "df = df[df['usd_pledged']!=0]\n",
        "\n"
      ],
      "execution_count": 0,
      "outputs": []
    },
    {
      "cell_type": "markdown",
      "metadata": {
        "id": "E28ofpZMoUJ7",
        "colab_type": "text"
      },
      "source": [
        "### Date-time data\n",
        "\n",
        "Information within dates can be very powerful.  This metadata can include information like, day-of-the-week, week-of-the-year, fiscal information, and time change information.  This will be extracted and calculated. "
      ]
    },
    {
      "cell_type": "code",
      "metadata": {
        "id": "Sq1ADXfMoUJ8",
        "colab_type": "code",
        "colab": {}
      },
      "source": [
        "# Feature Engineering\n",
        "# Convert unix timestamps to dates\n",
        "date_columns = ['created_at', 'deadline', 'launched_at']\n",
        "\n",
        "for column in date_columns: \n",
        "    meta_date(df, column)\n",
        "    \n",
        "df['created_to_launch_elapsed'] = (df['launched_at'] - df['created_at']).dt.days\n",
        "df['created_to_deadline_elapsed'] = (df['deadline'] - df['created_at']).dt.days\n",
        "df['launch_to_deadline_elapsed'] = (df['deadline'] - df['launched_at']).dt.days\n",
        "\n",
        "df = df.drop(columns=date_columns, axis=1)"
      ],
      "execution_count": 0,
      "outputs": []
    },
    {
      "cell_type": "markdown",
      "metadata": {
        "id": "nkQzckZFoUJ9",
        "colab_type": "text"
      },
      "source": [
        "### Text Data  \n",
        "\n",
        "Text data may hold several nuggets of information; especially when it comes to sentiment.  While sentiment will not be explored at this time, other attributes of text will be evaluated:\n",
        "* word count\n",
        "* syllable count\n",
        "\n",
        "From a marketing perspective, the goal would be to convey a message concisely.  This premise may indicate that word counts and syllable counts may serve as basic evaluation of message complexity.  "
      ]
    },
    {
      "cell_type": "code",
      "metadata": {
        "id": "lYKFjarEoUJ-",
        "colab_type": "code",
        "colab": {}
      },
      "source": [
        "df2 = df.copy()"
      ],
      "execution_count": 0,
      "outputs": []
    },
    {
      "cell_type": "code",
      "metadata": {
        "id": "p2ItZioXoUJ_",
        "colab_type": "code",
        "colab": {}
      },
      "source": [
        "df2 = count_text_attributes(df2, ['blurb', 'name'])"
      ],
      "execution_count": 0,
      "outputs": []
    },
    {
      "cell_type": "code",
      "metadata": {
        "id": "4hwsw4FwoUKA",
        "colab_type": "code",
        "colab": {}
      },
      "source": [
        "df2 = pd.concat([df2, pd.get_dummies(df2['parent_category'], prefix='pcat', drop_first=True)], \n",
        "                axis=1)"
      ],
      "execution_count": 0,
      "outputs": []
    },
    {
      "cell_type": "code",
      "metadata": {
        "id": "DfYtvFajoUKC",
        "colab_type": "code",
        "colab": {}
      },
      "source": [
        "df2 = pd.concat([df2, pd.get_dummies(df2['sub_category'], prefix='subcat', drop_first=True)], \n",
        "                axis=1)  "
      ],
      "execution_count": 0,
      "outputs": []
    },
    {
      "cell_type": "code",
      "metadata": {
        "id": "VCDSfGE0oUKD",
        "colab_type": "code",
        "outputId": "8b4398cb-835c-449e-8318-bf0fbb60e735",
        "colab": {
          "base_uri": "https://localhost:8080/",
          "height": 270
        }
      },
      "source": [
        "df2.head()"
      ],
      "execution_count": 0,
      "outputs": [
        {
          "output_type": "execute_result",
          "data": {
            "text/html": [
              "<div>\n",
              "<style scoped>\n",
              "    .dataframe tbody tr th:only-of-type {\n",
              "        vertical-align: middle;\n",
              "    }\n",
              "\n",
              "    .dataframe tbody tr th {\n",
              "        vertical-align: top;\n",
              "    }\n",
              "\n",
              "    .dataframe thead th {\n",
              "        text-align: right;\n",
              "    }\n",
              "</style>\n",
              "<table border=\"1\" class=\"dataframe\">\n",
              "  <thead>\n",
              "    <tr style=\"text-align: right;\">\n",
              "      <th></th>\n",
              "      <th>backers_count</th>\n",
              "      <th>country</th>\n",
              "      <th>goal</th>\n",
              "      <th>is_starrable</th>\n",
              "      <th>spotlight</th>\n",
              "      <th>staff_pick</th>\n",
              "      <th>state</th>\n",
              "      <th>static_usd_rate</th>\n",
              "      <th>usd_pledged</th>\n",
              "      <th>parent_category</th>\n",
              "      <th>sub_category</th>\n",
              "      <th>usd_goal</th>\n",
              "      <th>created_at_Year</th>\n",
              "      <th>created_at_Month</th>\n",
              "      <th>created_at_Week</th>\n",
              "      <th>created_at_Day</th>\n",
              "      <th>created_at_Dayofweek</th>\n",
              "      <th>created_at_Dayofyear</th>\n",
              "      <th>created_at_Is_month_end</th>\n",
              "      <th>created_at_Is_month_start</th>\n",
              "      <th>created_at_Is_quarter_end</th>\n",
              "      <th>created_at_Is_year_end</th>\n",
              "      <th>created_at_Is_year_start</th>\n",
              "      <th>deadline_Year</th>\n",
              "      <th>deadline_Month</th>\n",
              "      <th>...</th>\n",
              "      <th>subcat_spaces</th>\n",
              "      <th>subcat_stationery</th>\n",
              "      <th>subcat_tabletop games</th>\n",
              "      <th>subcat_taxidermy</th>\n",
              "      <th>subcat_technology</th>\n",
              "      <th>subcat_television</th>\n",
              "      <th>subcat_textiles</th>\n",
              "      <th>subcat_theater</th>\n",
              "      <th>subcat_thrillers</th>\n",
              "      <th>subcat_translations</th>\n",
              "      <th>subcat_typography</th>\n",
              "      <th>subcat_vegan</th>\n",
              "      <th>subcat_video</th>\n",
              "      <th>subcat_video art</th>\n",
              "      <th>subcat_video games</th>\n",
              "      <th>subcat_wearables</th>\n",
              "      <th>subcat_weaving</th>\n",
              "      <th>subcat_web</th>\n",
              "      <th>subcat_webcomics</th>\n",
              "      <th>subcat_webseries</th>\n",
              "      <th>subcat_woodworking</th>\n",
              "      <th>subcat_workshops</th>\n",
              "      <th>subcat_world music</th>\n",
              "      <th>subcat_young adult</th>\n",
              "      <th>subcat_zines</th>\n",
              "    </tr>\n",
              "  </thead>\n",
              "  <tbody>\n",
              "    <tr>\n",
              "      <th>2</th>\n",
              "      <td>3</td>\n",
              "      <td>US</td>\n",
              "      <td>1000.0</td>\n",
              "      <td>False</td>\n",
              "      <td>False</td>\n",
              "      <td>False</td>\n",
              "      <td>failed</td>\n",
              "      <td>1.00000</td>\n",
              "      <td>120.000000</td>\n",
              "      <td>art</td>\n",
              "      <td>painting</td>\n",
              "      <td>1000.0000</td>\n",
              "      <td>2014</td>\n",
              "      <td>9</td>\n",
              "      <td>36</td>\n",
              "      <td>4</td>\n",
              "      <td>3</td>\n",
              "      <td>247</td>\n",
              "      <td>False</td>\n",
              "      <td>False</td>\n",
              "      <td>False</td>\n",
              "      <td>False</td>\n",
              "      <td>False</td>\n",
              "      <td>2014</td>\n",
              "      <td>10</td>\n",
              "      <td>...</td>\n",
              "      <td>0</td>\n",
              "      <td>0</td>\n",
              "      <td>0</td>\n",
              "      <td>0</td>\n",
              "      <td>0</td>\n",
              "      <td>0</td>\n",
              "      <td>0</td>\n",
              "      <td>0</td>\n",
              "      <td>0</td>\n",
              "      <td>0</td>\n",
              "      <td>0</td>\n",
              "      <td>0</td>\n",
              "      <td>0</td>\n",
              "      <td>0</td>\n",
              "      <td>0</td>\n",
              "      <td>0</td>\n",
              "      <td>0</td>\n",
              "      <td>0</td>\n",
              "      <td>0</td>\n",
              "      <td>0</td>\n",
              "      <td>0</td>\n",
              "      <td>0</td>\n",
              "      <td>0</td>\n",
              "      <td>0</td>\n",
              "      <td>0</td>\n",
              "    </tr>\n",
              "    <tr>\n",
              "      <th>3</th>\n",
              "      <td>4870</td>\n",
              "      <td>CA</td>\n",
              "      <td>10000.0</td>\n",
              "      <td>False</td>\n",
              "      <td>True</td>\n",
              "      <td>False</td>\n",
              "      <td>successful</td>\n",
              "      <td>0.72937</td>\n",
              "      <td>537049.814122</td>\n",
              "      <td>design</td>\n",
              "      <td>product design</td>\n",
              "      <td>7293.7013</td>\n",
              "      <td>2015</td>\n",
              "      <td>11</td>\n",
              "      <td>47</td>\n",
              "      <td>22</td>\n",
              "      <td>6</td>\n",
              "      <td>326</td>\n",
              "      <td>False</td>\n",
              "      <td>False</td>\n",
              "      <td>False</td>\n",
              "      <td>False</td>\n",
              "      <td>False</td>\n",
              "      <td>2016</td>\n",
              "      <td>1</td>\n",
              "      <td>...</td>\n",
              "      <td>0</td>\n",
              "      <td>0</td>\n",
              "      <td>0</td>\n",
              "      <td>0</td>\n",
              "      <td>0</td>\n",
              "      <td>0</td>\n",
              "      <td>0</td>\n",
              "      <td>0</td>\n",
              "      <td>0</td>\n",
              "      <td>0</td>\n",
              "      <td>0</td>\n",
              "      <td>0</td>\n",
              "      <td>0</td>\n",
              "      <td>0</td>\n",
              "      <td>0</td>\n",
              "      <td>0</td>\n",
              "      <td>0</td>\n",
              "      <td>0</td>\n",
              "      <td>0</td>\n",
              "      <td>0</td>\n",
              "      <td>0</td>\n",
              "      <td>0</td>\n",
              "      <td>0</td>\n",
              "      <td>0</td>\n",
              "      <td>0</td>\n",
              "    </tr>\n",
              "    <tr>\n",
              "      <th>7</th>\n",
              "      <td>23</td>\n",
              "      <td>US</td>\n",
              "      <td>40000.0</td>\n",
              "      <td>False</td>\n",
              "      <td>False</td>\n",
              "      <td>False</td>\n",
              "      <td>live</td>\n",
              "      <td>1.00000</td>\n",
              "      <td>2180.000000</td>\n",
              "      <td>design</td>\n",
              "      <td>product design</td>\n",
              "      <td>40000.0000</td>\n",
              "      <td>2015</td>\n",
              "      <td>7</td>\n",
              "      <td>29</td>\n",
              "      <td>19</td>\n",
              "      <td>6</td>\n",
              "      <td>200</td>\n",
              "      <td>False</td>\n",
              "      <td>False</td>\n",
              "      <td>False</td>\n",
              "      <td>False</td>\n",
              "      <td>False</td>\n",
              "      <td>2016</td>\n",
              "      <td>2</td>\n",
              "      <td>...</td>\n",
              "      <td>0</td>\n",
              "      <td>0</td>\n",
              "      <td>0</td>\n",
              "      <td>0</td>\n",
              "      <td>0</td>\n",
              "      <td>0</td>\n",
              "      <td>0</td>\n",
              "      <td>0</td>\n",
              "      <td>0</td>\n",
              "      <td>0</td>\n",
              "      <td>0</td>\n",
              "      <td>0</td>\n",
              "      <td>0</td>\n",
              "      <td>0</td>\n",
              "      <td>0</td>\n",
              "      <td>0</td>\n",
              "      <td>0</td>\n",
              "      <td>0</td>\n",
              "      <td>0</td>\n",
              "      <td>0</td>\n",
              "      <td>0</td>\n",
              "      <td>0</td>\n",
              "      <td>0</td>\n",
              "      <td>0</td>\n",
              "      <td>0</td>\n",
              "    </tr>\n",
              "    <tr>\n",
              "      <th>9</th>\n",
              "      <td>2</td>\n",
              "      <td>US</td>\n",
              "      <td>150000.0</td>\n",
              "      <td>False</td>\n",
              "      <td>False</td>\n",
              "      <td>False</td>\n",
              "      <td>live</td>\n",
              "      <td>1.00000</td>\n",
              "      <td>31.000000</td>\n",
              "      <td>design</td>\n",
              "      <td>product design</td>\n",
              "      <td>150000.0000</td>\n",
              "      <td>2016</td>\n",
              "      <td>1</td>\n",
              "      <td>53</td>\n",
              "      <td>3</td>\n",
              "      <td>6</td>\n",
              "      <td>3</td>\n",
              "      <td>False</td>\n",
              "      <td>False</td>\n",
              "      <td>False</td>\n",
              "      <td>False</td>\n",
              "      <td>False</td>\n",
              "      <td>2016</td>\n",
              "      <td>3</td>\n",
              "      <td>...</td>\n",
              "      <td>0</td>\n",
              "      <td>0</td>\n",
              "      <td>0</td>\n",
              "      <td>0</td>\n",
              "      <td>0</td>\n",
              "      <td>0</td>\n",
              "      <td>0</td>\n",
              "      <td>0</td>\n",
              "      <td>0</td>\n",
              "      <td>0</td>\n",
              "      <td>0</td>\n",
              "      <td>0</td>\n",
              "      <td>0</td>\n",
              "      <td>0</td>\n",
              "      <td>0</td>\n",
              "      <td>0</td>\n",
              "      <td>0</td>\n",
              "      <td>0</td>\n",
              "      <td>0</td>\n",
              "      <td>0</td>\n",
              "      <td>0</td>\n",
              "      <td>0</td>\n",
              "      <td>0</td>\n",
              "      <td>0</td>\n",
              "      <td>0</td>\n",
              "    </tr>\n",
              "    <tr>\n",
              "      <th>10</th>\n",
              "      <td>2</td>\n",
              "      <td>US</td>\n",
              "      <td>38000.0</td>\n",
              "      <td>False</td>\n",
              "      <td>False</td>\n",
              "      <td>False</td>\n",
              "      <td>live</td>\n",
              "      <td>1.00000</td>\n",
              "      <td>16.000000</td>\n",
              "      <td>design</td>\n",
              "      <td>product design</td>\n",
              "      <td>38000.0000</td>\n",
              "      <td>2016</td>\n",
              "      <td>1</td>\n",
              "      <td>3</td>\n",
              "      <td>19</td>\n",
              "      <td>1</td>\n",
              "      <td>19</td>\n",
              "      <td>False</td>\n",
              "      <td>False</td>\n",
              "      <td>False</td>\n",
              "      <td>False</td>\n",
              "      <td>False</td>\n",
              "      <td>2016</td>\n",
              "      <td>2</td>\n",
              "      <td>...</td>\n",
              "      <td>0</td>\n",
              "      <td>0</td>\n",
              "      <td>0</td>\n",
              "      <td>0</td>\n",
              "      <td>0</td>\n",
              "      <td>0</td>\n",
              "      <td>0</td>\n",
              "      <td>0</td>\n",
              "      <td>0</td>\n",
              "      <td>0</td>\n",
              "      <td>0</td>\n",
              "      <td>0</td>\n",
              "      <td>0</td>\n",
              "      <td>0</td>\n",
              "      <td>0</td>\n",
              "      <td>0</td>\n",
              "      <td>0</td>\n",
              "      <td>0</td>\n",
              "      <td>0</td>\n",
              "      <td>0</td>\n",
              "      <td>0</td>\n",
              "      <td>0</td>\n",
              "      <td>0</td>\n",
              "      <td>0</td>\n",
              "      <td>0</td>\n",
              "    </tr>\n",
              "  </tbody>\n",
              "</table>\n",
              "<p>5 rows × 225 columns</p>\n",
              "</div>"
            ],
            "text/plain": [
              "    backers_count country      goal  is_starrable  spotlight  staff_pick  \\\n",
              "2               3      US    1000.0         False      False       False   \n",
              "3            4870      CA   10000.0         False       True       False   \n",
              "7              23      US   40000.0         False      False       False   \n",
              "9               2      US  150000.0         False      False       False   \n",
              "10              2      US   38000.0         False      False       False   \n",
              "\n",
              "         state  static_usd_rate    usd_pledged parent_category  \\\n",
              "2       failed          1.00000     120.000000             art   \n",
              "3   successful          0.72937  537049.814122          design   \n",
              "7         live          1.00000    2180.000000          design   \n",
              "9         live          1.00000      31.000000          design   \n",
              "10        live          1.00000      16.000000          design   \n",
              "\n",
              "      sub_category     usd_goal  created_at_Year  created_at_Month  \\\n",
              "2         painting    1000.0000             2014                 9   \n",
              "3   product design    7293.7013             2015                11   \n",
              "7   product design   40000.0000             2015                 7   \n",
              "9   product design  150000.0000             2016                 1   \n",
              "10  product design   38000.0000             2016                 1   \n",
              "\n",
              "    created_at_Week  created_at_Day  created_at_Dayofweek  \\\n",
              "2                36               4                     3   \n",
              "3                47              22                     6   \n",
              "7                29              19                     6   \n",
              "9                53               3                     6   \n",
              "10                3              19                     1   \n",
              "\n",
              "    created_at_Dayofyear  created_at_Is_month_end  created_at_Is_month_start  \\\n",
              "2                    247                    False                      False   \n",
              "3                    326                    False                      False   \n",
              "7                    200                    False                      False   \n",
              "9                      3                    False                      False   \n",
              "10                    19                    False                      False   \n",
              "\n",
              "    created_at_Is_quarter_end  created_at_Is_year_end  \\\n",
              "2                       False                   False   \n",
              "3                       False                   False   \n",
              "7                       False                   False   \n",
              "9                       False                   False   \n",
              "10                      False                   False   \n",
              "\n",
              "    created_at_Is_year_start  deadline_Year  deadline_Month  ...  \\\n",
              "2                      False           2014              10  ...   \n",
              "3                      False           2016               1  ...   \n",
              "7                      False           2016               2  ...   \n",
              "9                      False           2016               3  ...   \n",
              "10                     False           2016               2  ...   \n",
              "\n",
              "    subcat_spaces  subcat_stationery  subcat_tabletop games  subcat_taxidermy  \\\n",
              "2               0                  0                      0                 0   \n",
              "3               0                  0                      0                 0   \n",
              "7               0                  0                      0                 0   \n",
              "9               0                  0                      0                 0   \n",
              "10              0                  0                      0                 0   \n",
              "\n",
              "    subcat_technology  subcat_television  subcat_textiles  subcat_theater  \\\n",
              "2                   0                  0                0               0   \n",
              "3                   0                  0                0               0   \n",
              "7                   0                  0                0               0   \n",
              "9                   0                  0                0               0   \n",
              "10                  0                  0                0               0   \n",
              "\n",
              "    subcat_thrillers  subcat_translations  subcat_typography  subcat_vegan  \\\n",
              "2                  0                    0                  0             0   \n",
              "3                  0                    0                  0             0   \n",
              "7                  0                    0                  0             0   \n",
              "9                  0                    0                  0             0   \n",
              "10                 0                    0                  0             0   \n",
              "\n",
              "    subcat_video  subcat_video art  subcat_video games  subcat_wearables  \\\n",
              "2              0                 0                   0                 0   \n",
              "3              0                 0                   0                 0   \n",
              "7              0                 0                   0                 0   \n",
              "9              0                 0                   0                 0   \n",
              "10             0                 0                   0                 0   \n",
              "\n",
              "    subcat_weaving  subcat_web  subcat_webcomics  subcat_webseries  \\\n",
              "2                0           0                 0                 0   \n",
              "3                0           0                 0                 0   \n",
              "7                0           0                 0                 0   \n",
              "9                0           0                 0                 0   \n",
              "10               0           0                 0                 0   \n",
              "\n",
              "    subcat_woodworking  subcat_workshops  subcat_world music  \\\n",
              "2                    0                 0                   0   \n",
              "3                    0                 0                   0   \n",
              "7                    0                 0                   0   \n",
              "9                    0                 0                   0   \n",
              "10                   0                 0                   0   \n",
              "\n",
              "    subcat_young adult  subcat_zines  \n",
              "2                    0             0  \n",
              "3                    0             0  \n",
              "7                    0             0  \n",
              "9                    0             0  \n",
              "10                   0             0  \n",
              "\n",
              "[5 rows x 225 columns]"
            ]
          },
          "metadata": {
            "tags": []
          },
          "execution_count": 45
        }
      ]
    },
    {
      "cell_type": "code",
      "metadata": {
        "id": "UPdrf3XYoUKF",
        "colab_type": "code",
        "colab": {}
      },
      "source": [
        "df2 = pd.concat([df2, pd.get_dummies(df2['country'], drop_first=True)], \n",
        "                axis=1)"
      ],
      "execution_count": 0,
      "outputs": []
    },
    {
      "cell_type": "code",
      "metadata": {
        "id": "_xH5VA9xoUKG",
        "colab_type": "code",
        "outputId": "d7abecdb-5bd0-40bc-bf98-346c5ff8a958",
        "colab": {
          "base_uri": "https://localhost:8080/",
          "height": 270
        }
      },
      "source": [
        "df2.head()"
      ],
      "execution_count": 0,
      "outputs": [
        {
          "output_type": "execute_result",
          "data": {
            "text/html": [
              "<div>\n",
              "<style scoped>\n",
              "    .dataframe tbody tr th:only-of-type {\n",
              "        vertical-align: middle;\n",
              "    }\n",
              "\n",
              "    .dataframe tbody tr th {\n",
              "        vertical-align: top;\n",
              "    }\n",
              "\n",
              "    .dataframe thead th {\n",
              "        text-align: right;\n",
              "    }\n",
              "</style>\n",
              "<table border=\"1\" class=\"dataframe\">\n",
              "  <thead>\n",
              "    <tr style=\"text-align: right;\">\n",
              "      <th></th>\n",
              "      <th>backers_count</th>\n",
              "      <th>country</th>\n",
              "      <th>goal</th>\n",
              "      <th>is_starrable</th>\n",
              "      <th>spotlight</th>\n",
              "      <th>staff_pick</th>\n",
              "      <th>state</th>\n",
              "      <th>static_usd_rate</th>\n",
              "      <th>usd_pledged</th>\n",
              "      <th>parent_category</th>\n",
              "      <th>sub_category</th>\n",
              "      <th>usd_goal</th>\n",
              "      <th>created_at_Year</th>\n",
              "      <th>created_at_Month</th>\n",
              "      <th>created_at_Week</th>\n",
              "      <th>created_at_Day</th>\n",
              "      <th>created_at_Dayofweek</th>\n",
              "      <th>created_at_Dayofyear</th>\n",
              "      <th>created_at_Is_month_end</th>\n",
              "      <th>created_at_Is_month_start</th>\n",
              "      <th>created_at_Is_quarter_end</th>\n",
              "      <th>created_at_Is_year_end</th>\n",
              "      <th>created_at_Is_year_start</th>\n",
              "      <th>deadline_Year</th>\n",
              "      <th>deadline_Month</th>\n",
              "      <th>...</th>\n",
              "      <th>subcat_workshops</th>\n",
              "      <th>subcat_world music</th>\n",
              "      <th>subcat_young adult</th>\n",
              "      <th>subcat_zines</th>\n",
              "      <th>AU</th>\n",
              "      <th>BE</th>\n",
              "      <th>CA</th>\n",
              "      <th>CH</th>\n",
              "      <th>DE</th>\n",
              "      <th>DK</th>\n",
              "      <th>ES</th>\n",
              "      <th>FR</th>\n",
              "      <th>GB</th>\n",
              "      <th>HK</th>\n",
              "      <th>IE</th>\n",
              "      <th>IT</th>\n",
              "      <th>JP</th>\n",
              "      <th>LU</th>\n",
              "      <th>MX</th>\n",
              "      <th>NL</th>\n",
              "      <th>NO</th>\n",
              "      <th>NZ</th>\n",
              "      <th>SE</th>\n",
              "      <th>SG</th>\n",
              "      <th>US</th>\n",
              "    </tr>\n",
              "  </thead>\n",
              "  <tbody>\n",
              "    <tr>\n",
              "      <th>2</th>\n",
              "      <td>3</td>\n",
              "      <td>US</td>\n",
              "      <td>1000.0</td>\n",
              "      <td>False</td>\n",
              "      <td>False</td>\n",
              "      <td>False</td>\n",
              "      <td>failed</td>\n",
              "      <td>1.00000</td>\n",
              "      <td>120.000000</td>\n",
              "      <td>art</td>\n",
              "      <td>painting</td>\n",
              "      <td>1000.0000</td>\n",
              "      <td>2014</td>\n",
              "      <td>9</td>\n",
              "      <td>36</td>\n",
              "      <td>4</td>\n",
              "      <td>3</td>\n",
              "      <td>247</td>\n",
              "      <td>False</td>\n",
              "      <td>False</td>\n",
              "      <td>False</td>\n",
              "      <td>False</td>\n",
              "      <td>False</td>\n",
              "      <td>2014</td>\n",
              "      <td>10</td>\n",
              "      <td>...</td>\n",
              "      <td>0</td>\n",
              "      <td>0</td>\n",
              "      <td>0</td>\n",
              "      <td>0</td>\n",
              "      <td>0</td>\n",
              "      <td>0</td>\n",
              "      <td>0</td>\n",
              "      <td>0</td>\n",
              "      <td>0</td>\n",
              "      <td>0</td>\n",
              "      <td>0</td>\n",
              "      <td>0</td>\n",
              "      <td>0</td>\n",
              "      <td>0</td>\n",
              "      <td>0</td>\n",
              "      <td>0</td>\n",
              "      <td>0</td>\n",
              "      <td>0</td>\n",
              "      <td>0</td>\n",
              "      <td>0</td>\n",
              "      <td>0</td>\n",
              "      <td>0</td>\n",
              "      <td>0</td>\n",
              "      <td>0</td>\n",
              "      <td>1</td>\n",
              "    </tr>\n",
              "    <tr>\n",
              "      <th>3</th>\n",
              "      <td>4870</td>\n",
              "      <td>CA</td>\n",
              "      <td>10000.0</td>\n",
              "      <td>False</td>\n",
              "      <td>True</td>\n",
              "      <td>False</td>\n",
              "      <td>successful</td>\n",
              "      <td>0.72937</td>\n",
              "      <td>537049.814122</td>\n",
              "      <td>design</td>\n",
              "      <td>product design</td>\n",
              "      <td>7293.7013</td>\n",
              "      <td>2015</td>\n",
              "      <td>11</td>\n",
              "      <td>47</td>\n",
              "      <td>22</td>\n",
              "      <td>6</td>\n",
              "      <td>326</td>\n",
              "      <td>False</td>\n",
              "      <td>False</td>\n",
              "      <td>False</td>\n",
              "      <td>False</td>\n",
              "      <td>False</td>\n",
              "      <td>2016</td>\n",
              "      <td>1</td>\n",
              "      <td>...</td>\n",
              "      <td>0</td>\n",
              "      <td>0</td>\n",
              "      <td>0</td>\n",
              "      <td>0</td>\n",
              "      <td>0</td>\n",
              "      <td>0</td>\n",
              "      <td>1</td>\n",
              "      <td>0</td>\n",
              "      <td>0</td>\n",
              "      <td>0</td>\n",
              "      <td>0</td>\n",
              "      <td>0</td>\n",
              "      <td>0</td>\n",
              "      <td>0</td>\n",
              "      <td>0</td>\n",
              "      <td>0</td>\n",
              "      <td>0</td>\n",
              "      <td>0</td>\n",
              "      <td>0</td>\n",
              "      <td>0</td>\n",
              "      <td>0</td>\n",
              "      <td>0</td>\n",
              "      <td>0</td>\n",
              "      <td>0</td>\n",
              "      <td>0</td>\n",
              "    </tr>\n",
              "    <tr>\n",
              "      <th>7</th>\n",
              "      <td>23</td>\n",
              "      <td>US</td>\n",
              "      <td>40000.0</td>\n",
              "      <td>False</td>\n",
              "      <td>False</td>\n",
              "      <td>False</td>\n",
              "      <td>live</td>\n",
              "      <td>1.00000</td>\n",
              "      <td>2180.000000</td>\n",
              "      <td>design</td>\n",
              "      <td>product design</td>\n",
              "      <td>40000.0000</td>\n",
              "      <td>2015</td>\n",
              "      <td>7</td>\n",
              "      <td>29</td>\n",
              "      <td>19</td>\n",
              "      <td>6</td>\n",
              "      <td>200</td>\n",
              "      <td>False</td>\n",
              "      <td>False</td>\n",
              "      <td>False</td>\n",
              "      <td>False</td>\n",
              "      <td>False</td>\n",
              "      <td>2016</td>\n",
              "      <td>2</td>\n",
              "      <td>...</td>\n",
              "      <td>0</td>\n",
              "      <td>0</td>\n",
              "      <td>0</td>\n",
              "      <td>0</td>\n",
              "      <td>0</td>\n",
              "      <td>0</td>\n",
              "      <td>0</td>\n",
              "      <td>0</td>\n",
              "      <td>0</td>\n",
              "      <td>0</td>\n",
              "      <td>0</td>\n",
              "      <td>0</td>\n",
              "      <td>0</td>\n",
              "      <td>0</td>\n",
              "      <td>0</td>\n",
              "      <td>0</td>\n",
              "      <td>0</td>\n",
              "      <td>0</td>\n",
              "      <td>0</td>\n",
              "      <td>0</td>\n",
              "      <td>0</td>\n",
              "      <td>0</td>\n",
              "      <td>0</td>\n",
              "      <td>0</td>\n",
              "      <td>1</td>\n",
              "    </tr>\n",
              "    <tr>\n",
              "      <th>9</th>\n",
              "      <td>2</td>\n",
              "      <td>US</td>\n",
              "      <td>150000.0</td>\n",
              "      <td>False</td>\n",
              "      <td>False</td>\n",
              "      <td>False</td>\n",
              "      <td>live</td>\n",
              "      <td>1.00000</td>\n",
              "      <td>31.000000</td>\n",
              "      <td>design</td>\n",
              "      <td>product design</td>\n",
              "      <td>150000.0000</td>\n",
              "      <td>2016</td>\n",
              "      <td>1</td>\n",
              "      <td>53</td>\n",
              "      <td>3</td>\n",
              "      <td>6</td>\n",
              "      <td>3</td>\n",
              "      <td>False</td>\n",
              "      <td>False</td>\n",
              "      <td>False</td>\n",
              "      <td>False</td>\n",
              "      <td>False</td>\n",
              "      <td>2016</td>\n",
              "      <td>3</td>\n",
              "      <td>...</td>\n",
              "      <td>0</td>\n",
              "      <td>0</td>\n",
              "      <td>0</td>\n",
              "      <td>0</td>\n",
              "      <td>0</td>\n",
              "      <td>0</td>\n",
              "      <td>0</td>\n",
              "      <td>0</td>\n",
              "      <td>0</td>\n",
              "      <td>0</td>\n",
              "      <td>0</td>\n",
              "      <td>0</td>\n",
              "      <td>0</td>\n",
              "      <td>0</td>\n",
              "      <td>0</td>\n",
              "      <td>0</td>\n",
              "      <td>0</td>\n",
              "      <td>0</td>\n",
              "      <td>0</td>\n",
              "      <td>0</td>\n",
              "      <td>0</td>\n",
              "      <td>0</td>\n",
              "      <td>0</td>\n",
              "      <td>0</td>\n",
              "      <td>1</td>\n",
              "    </tr>\n",
              "    <tr>\n",
              "      <th>10</th>\n",
              "      <td>2</td>\n",
              "      <td>US</td>\n",
              "      <td>38000.0</td>\n",
              "      <td>False</td>\n",
              "      <td>False</td>\n",
              "      <td>False</td>\n",
              "      <td>live</td>\n",
              "      <td>1.00000</td>\n",
              "      <td>16.000000</td>\n",
              "      <td>design</td>\n",
              "      <td>product design</td>\n",
              "      <td>38000.0000</td>\n",
              "      <td>2016</td>\n",
              "      <td>1</td>\n",
              "      <td>3</td>\n",
              "      <td>19</td>\n",
              "      <td>1</td>\n",
              "      <td>19</td>\n",
              "      <td>False</td>\n",
              "      <td>False</td>\n",
              "      <td>False</td>\n",
              "      <td>False</td>\n",
              "      <td>False</td>\n",
              "      <td>2016</td>\n",
              "      <td>2</td>\n",
              "      <td>...</td>\n",
              "      <td>0</td>\n",
              "      <td>0</td>\n",
              "      <td>0</td>\n",
              "      <td>0</td>\n",
              "      <td>0</td>\n",
              "      <td>0</td>\n",
              "      <td>0</td>\n",
              "      <td>0</td>\n",
              "      <td>0</td>\n",
              "      <td>0</td>\n",
              "      <td>0</td>\n",
              "      <td>0</td>\n",
              "      <td>0</td>\n",
              "      <td>0</td>\n",
              "      <td>0</td>\n",
              "      <td>0</td>\n",
              "      <td>0</td>\n",
              "      <td>0</td>\n",
              "      <td>0</td>\n",
              "      <td>0</td>\n",
              "      <td>0</td>\n",
              "      <td>0</td>\n",
              "      <td>0</td>\n",
              "      <td>0</td>\n",
              "      <td>1</td>\n",
              "    </tr>\n",
              "  </tbody>\n",
              "</table>\n",
              "<p>5 rows × 246 columns</p>\n",
              "</div>"
            ],
            "text/plain": [
              "    backers_count country      goal  is_starrable  spotlight  staff_pick  \\\n",
              "2               3      US    1000.0         False      False       False   \n",
              "3            4870      CA   10000.0         False       True       False   \n",
              "7              23      US   40000.0         False      False       False   \n",
              "9               2      US  150000.0         False      False       False   \n",
              "10              2      US   38000.0         False      False       False   \n",
              "\n",
              "         state  static_usd_rate    usd_pledged parent_category  \\\n",
              "2       failed          1.00000     120.000000             art   \n",
              "3   successful          0.72937  537049.814122          design   \n",
              "7         live          1.00000    2180.000000          design   \n",
              "9         live          1.00000      31.000000          design   \n",
              "10        live          1.00000      16.000000          design   \n",
              "\n",
              "      sub_category     usd_goal  created_at_Year  created_at_Month  \\\n",
              "2         painting    1000.0000             2014                 9   \n",
              "3   product design    7293.7013             2015                11   \n",
              "7   product design   40000.0000             2015                 7   \n",
              "9   product design  150000.0000             2016                 1   \n",
              "10  product design   38000.0000             2016                 1   \n",
              "\n",
              "    created_at_Week  created_at_Day  created_at_Dayofweek  \\\n",
              "2                36               4                     3   \n",
              "3                47              22                     6   \n",
              "7                29              19                     6   \n",
              "9                53               3                     6   \n",
              "10                3              19                     1   \n",
              "\n",
              "    created_at_Dayofyear  created_at_Is_month_end  created_at_Is_month_start  \\\n",
              "2                    247                    False                      False   \n",
              "3                    326                    False                      False   \n",
              "7                    200                    False                      False   \n",
              "9                      3                    False                      False   \n",
              "10                    19                    False                      False   \n",
              "\n",
              "    created_at_Is_quarter_end  created_at_Is_year_end  \\\n",
              "2                       False                   False   \n",
              "3                       False                   False   \n",
              "7                       False                   False   \n",
              "9                       False                   False   \n",
              "10                      False                   False   \n",
              "\n",
              "    created_at_Is_year_start  deadline_Year  deadline_Month  ...  \\\n",
              "2                      False           2014              10  ...   \n",
              "3                      False           2016               1  ...   \n",
              "7                      False           2016               2  ...   \n",
              "9                      False           2016               3  ...   \n",
              "10                     False           2016               2  ...   \n",
              "\n",
              "    subcat_workshops  subcat_world music  subcat_young adult  subcat_zines  \\\n",
              "2                  0                   0                   0             0   \n",
              "3                  0                   0                   0             0   \n",
              "7                  0                   0                   0             0   \n",
              "9                  0                   0                   0             0   \n",
              "10                 0                   0                   0             0   \n",
              "\n",
              "    AU  BE  CA  CH  DE  DK  ES  FR  GB  HK  IE  IT  JP  LU  MX  NL  NO  NZ  \\\n",
              "2    0   0   0   0   0   0   0   0   0   0   0   0   0   0   0   0   0   0   \n",
              "3    0   0   1   0   0   0   0   0   0   0   0   0   0   0   0   0   0   0   \n",
              "7    0   0   0   0   0   0   0   0   0   0   0   0   0   0   0   0   0   0   \n",
              "9    0   0   0   0   0   0   0   0   0   0   0   0   0   0   0   0   0   0   \n",
              "10   0   0   0   0   0   0   0   0   0   0   0   0   0   0   0   0   0   0   \n",
              "\n",
              "    SE  SG  US  \n",
              "2    0   0   1  \n",
              "3    0   0   0  \n",
              "7    0   0   1  \n",
              "9    0   0   1  \n",
              "10   0   0   1  \n",
              "\n",
              "[5 rows x 246 columns]"
            ]
          },
          "metadata": {
            "tags": []
          },
          "execution_count": 47
        }
      ]
    },
    {
      "cell_type": "code",
      "metadata": {
        "id": "VxoTOSOhoUKH",
        "colab_type": "code",
        "colab": {}
      },
      "source": [
        "df2 = df2.drop(columns=['country', 'parent_category', 'sub_category', 'goal'], axis=1)"
      ],
      "execution_count": 0,
      "outputs": []
    },
    {
      "cell_type": "code",
      "metadata": {
        "scrolled": false,
        "id": "X7G2CORSoUKI",
        "colab_type": "code",
        "colab": {}
      },
      "source": [
        ""
      ],
      "execution_count": 0,
      "outputs": []
    },
    {
      "cell_type": "code",
      "metadata": {
        "id": "XThq-P6voUKK",
        "colab_type": "code",
        "colab": {}
      },
      "source": [
        "# save clean version of data\n",
        "path2 = '/content/drive/My Drive/Colab Notebooks/Thinkful/Module 21 - Supervised Learning Capstone/data/clean_ks_data.csv'\n",
        "df2.to_csv(path2)"
      ],
      "execution_count": 0,
      "outputs": []
    },
    {
      "cell_type": "markdown",
      "metadata": {
        "id": "c4DNYASyomFS",
        "colab_type": "text"
      },
      "source": [
        "Data is prepared to feed into a model.  \n",
        "\n",
        "<strong>Note: </strong>\n",
        "Data has not been evaluated for feature selection.  EDA will be performed in another notebook linked below.\n",
        "\n",
        "https://colab.research.google.com/drive/1kojVItujzt14Vdjp9VLJJYe_Z9EzvGYf\n"
      ]
    },
    {
      "cell_type": "code",
      "metadata": {
        "id": "oD5fe7hkpfTA",
        "colab_type": "code",
        "colab": {}
      },
      "source": [
        ""
      ],
      "execution_count": 0,
      "outputs": []
    }
  ]
}